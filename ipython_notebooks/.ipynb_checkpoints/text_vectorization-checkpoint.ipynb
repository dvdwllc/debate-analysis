{
 "cells": [
  {
   "cell_type": "code",
   "execution_count": 29,
   "metadata": {
    "collapsed": false
   },
   "outputs": [],
   "source": [
    "import dill\n",
    "from sklearn.feature_extraction.text import TfidfVectorizer\n",
    "import numpy as np\n",
    "import pandas as pd\n",
    "from sklearn.cluster import KMeans\n",
    "from sklearn.decomposition import TruncatedSVD\n",
    "import matplotlib.pyplot as plt\n",
    "from sklearn.pipeline import Pipeline\n",
    "from sklearn.naive_bayes import BernoulliNB\n",
    "from sklearn.grid_search import GridSearchCV"
   ]
  },
  {
   "cell_type": "code",
   "execution_count": 2,
   "metadata": {
    "collapsed": true
   },
   "outputs": [],
   "source": [
    "%matplotlib inline"
   ]
  },
  {
   "cell_type": "code",
   "execution_count": 3,
   "metadata": {
    "collapsed": true
   },
   "outputs": [],
   "source": [
    "transcripts = dill.load(open('../dills/debate_transcripts_list.dill', 'r'))"
   ]
  },
  {
   "cell_type": "code",
   "execution_count": 5,
   "metadata": {
    "collapsed": false
   },
   "outputs": [],
   "source": [
    "#transcripts[15]"
   ]
  },
  {
   "cell_type": "code",
   "execution_count": 25,
   "metadata": {
    "collapsed": false
   },
   "outputs": [],
   "source": [
    "speakers = []# flattened dict of all candidates and their statements\n",
    "statements = []\n",
    "labels = [] # 0 for dem, 1 for republican\n",
    "# all_statements = [] # list of all statements\n",
    "for debate in transcripts:\n",
    "    if debate != 0:\n",
    "        for speaker in debate:\n",
    "            #print speaker[0]\n",
    "            statement = ''.join(debate[speaker])\n",
    "            speakers.append(speaker)\n",
    "            if speaker[0] == 'D':\n",
    "                labels.append('Democrat')\n",
    "            else:\n",
    "                labels.append('Republican')\n",
    "            statements.append(statement)\n",
    "            \n",
    "df = pd.DataFrame([speakers, statements, labels],['Candidate','Statement','Label']).T"
   ]
  },
  {
   "cell_type": "code",
   "execution_count": 26,
   "metadata": {
    "collapsed": false
   },
   "outputs": [],
   "source": [
    "tfidf = TfidfVectorizer(stop_words='english', ngram_range=(2,4), min_df=0.05, max_df=0.4)\n",
    "bernNB = BernoulliNB(class_prior=[0.5,0.5])\n",
    "pipe = Pipeline(\n",
    "    [\n",
    "        ('tfidf', tfidf),\n",
    "        ('gaussNB', bernNB)\n",
    "    ]\n",
    ")"
   ]
  },
  {
   "cell_type": "code",
   "execution_count": 27,
   "metadata": {
    "collapsed": false
   },
   "outputs": [
    {
     "data": {
      "text/plain": [
       "Pipeline(steps=[('tfidf', TfidfVectorizer(analyzer=u'word', binary=False, decode_error=u'strict',\n",
       "        dtype=<type 'numpy.int64'>, encoding=u'utf-8', input=u'content',\n",
       "        lowercase=True, max_df=0.4, max_features=None, min_df=0.05,\n",
       "        ngram_range=(2, 4), norm=u'l2', preprocessor=None, smooth_idf=...y=None)), ('gaussNB', BernoulliNB(alpha=1.0, binarize=0.0, class_prior=[0.5, 0.5], fit_prior=True))])"
      ]
     },
     "execution_count": 27,
     "metadata": {},
     "output_type": "execute_result"
    }
   ],
   "source": [
    "pipe.fit(df['Statement'], df['Label'])"
   ]
  },
  {
   "cell_type": "code",
   "execution_count": 28,
   "metadata": {
    "collapsed": false
   },
   "outputs": [
    {
     "data": {
      "text/plain": [
       "0.96026490066225167"
      ]
     },
     "execution_count": 28,
     "metadata": {},
     "output_type": "execute_result"
    }
   ],
   "source": [
    "pipe.score(df['Statement'], df['Label'])"
   ]
  },
  {
   "cell_type": "code",
   "execution_count": 33,
   "metadata": {
    "collapsed": false
   },
   "outputs": [
    {
     "data": {
      "text/plain": [
       "GridSearchCV(cv=None, error_score='raise',\n",
       "       estimator=Pipeline(steps=[('tfidf', TfidfVectorizer(analyzer=u'word', binary=False, decode_error=u'strict',\n",
       "        dtype=<type 'numpy.int64'>, encoding=u'utf-8', input=u'content',\n",
       "        lowercase=True, max_df=0.4, max_features=None, min_df=0.05,\n",
       "        ngram_range=(2, 4), norm=u'l2', preprocessor=None, smooth_idf=...y=None)), ('gaussNB', BernoulliNB(alpha=1.0, binarize=0.0, class_prior=[0.5, 0.5], fit_prior=True))]),\n",
       "       fit_params={}, iid=True, loss_func=None, n_jobs=1,\n",
       "       param_grid={'tfidf__max_df': [0.4, 0.6, 0.8], 'tfidf__min_df': [0.05, 0.1, 0.2]},\n",
       "       pre_dispatch='2*n_jobs', refit=True, score_func=None, scoring=None,\n",
       "       verbose=0)"
      ]
     },
     "execution_count": 33,
     "metadata": {},
     "output_type": "execute_result"
    }
   ],
   "source": [
    "parameters = {'tfidf__min_df':[0.05,0.1,0.2], 'tfidf__max_df':[0.4,0.6,0.8]}\n",
    "gscv = GridSearchCV(pipe, parameters)\n",
    "gscv.fit(df['Statement'], df['Label'])"
   ]
  },
  {
   "cell_type": "code",
   "execution_count": 36,
   "metadata": {
    "collapsed": false
   },
   "outputs": [
    {
     "data": {
      "text/plain": [
       "0.88520971302428253"
      ]
     },
     "execution_count": 36,
     "metadata": {},
     "output_type": "execute_result"
    }
   ],
   "source": [
    "gscv.best_score_"
   ]
  },
  {
   "cell_type": "code",
   "execution_count": null,
   "metadata": {
    "collapsed": false
   },
   "outputs": [],
   "source": []
  },
  {
   "cell_type": "code",
   "execution_count": 118,
   "metadata": {
    "collapsed": false
   },
   "outputs": [
    {
     "data": {
      "text/plain": [
       "(array([  55.,    0.,    0.,    0.,    0.,    0.,    0.,    0.,    0.,  290.]),\n",
       " array([ 0. ,  0.1,  0.2,  0.3,  0.4,  0.5,  0.6,  0.7,  0.8,  0.9,  1. ]),\n",
       " <a list of 10 Patch objects>)"
      ]
     },
     "execution_count": 118,
     "metadata": {},
     "output_type": "execute_result"
    },
    {
     "data": {
      "image/png": "[encoded data removed]",
      "text/plain": [
       "<matplotlib.figure.Figure at 0x11a401b10>"
      ]
     },
     "metadata": {},
     "output_type": "display_data"
    }
   ],
   "source": [
    "kmeans = KMeans(n_clusters=2, n_init=100)\n",
    "clusters = kmeans.fit_transform(tfidf_statements)\n",
    "labels = kmeans.predict(tfidf_statements)\n",
    "plt.hist(labels)"
   ]
  },
  {
   "cell_type": "code",
   "execution_count": 45,
   "metadata": {
    "collapsed": false
   },
   "outputs": [
    {
     "data": {
      "text/plain": [
       "u' Well, John, let me concur with you and with all Americans who are shocked and disgusted by what we saw in Paris yesterday. Together, leading the world, this country will rid our planet of this barbar'"
      ]
     },
     "execution_count": 45,
     "metadata": {},
     "output_type": "execute_result"
    }
   ],
   "source": [
    "df['Statement'][11][:200]"
   ]
  },
  {
   "cell_type": "code",
   "execution_count": 61,
   "metadata": {
    "collapsed": false
   },
   "outputs": [],
   "source": []
  },
  {
   "cell_type": "code",
   "execution_count": 119,
   "metadata": {
    "collapsed": false
   },
   "outputs": [],
   "source": [
    "groups = zip(speakers, labels.tolist())"
   ]
  },
  {
   "cell_type": "code",
   "execution_count": 121,
   "metadata": {
    "collapsed": false
   },
   "outputs": [
    {
     "data": {
      "text/plain": [
       "[(u'CLINTON_2016', 1),\n",
       " (u'SANDERS_2016', 1),\n",
       " (u'CLINTON_2016', 1),\n",
       " (u'SANDERS_2016', 1),\n",
       " (u'MALLEY_2016', 1),\n",
       " (u'CLINTON_2016', 1),\n",
       " (u'SANDERS_2016', 1),\n",
       " (u'MALLEY_2016', 1),\n",
       " (u'CLINTON_2015', 1),\n",
       " (u'SANDERS_2015', 1),\n",
       " (u'MALLEY_2015', 1),\n",
       " (u'CLINTON_2015', 1),\n",
       " (u'SANDERS_2015', 1),\n",
       " (u'MALLEY_2015', 1),\n",
       " (u'WEBB_2015', 1),\n",
       " (u'CHRISTIE_2016', 1),\n",
       " (u'CRUZ_2016', 1),\n",
       " (u'KASICH_2016', 1),\n",
       " (u'RUBIO_2016', 1),\n",
       " (u'TRUMP_2016', 1),\n",
       " (u'BUSH_2016', 1),\n",
       " (u'CHRISTIE_2016', 1),\n",
       " (u'CRUZ_2016', 1),\n",
       " (u'KASICH_2016', 1),\n",
       " (u'RUBIO_2016', 1),\n",
       " (u'BUSH_2016', 1),\n",
       " (u'CHRISTIE_2016', 1),\n",
       " (u'KASICH_2016', 1),\n",
       " (u'RUBIO_2016', 1),\n",
       " (u'TRUMP_2016', 1),\n",
       " (u'CRUZ_2016', 1),\n",
       " (u'BUSH_2016', 1),\n",
       " (u'CHRISTIE_2016', 1),\n",
       " (u'CRUZ_2016', 1),\n",
       " (u'RUBIO_2016', 1),\n",
       " (u'TRUMP_2016', 1),\n",
       " (u'PAUL_2016', 1),\n",
       " (u'BUSH_2016', 1),\n",
       " (u'KASICH_2016', 1),\n",
       " (u'RUBIO_2016', 1),\n",
       " (u'TRUMP_2016', 1),\n",
       " (u'CRUZ_2016', 1),\n",
       " (u'BUSH_2016', 1),\n",
       " (u'PAUL_2016', 1),\n",
       " (u'FIORINA_2016', 1),\n",
       " (u'RUBIO_2015', 1),\n",
       " (u'FIORINA_2015', 1),\n",
       " (u'RUBIO_2015', 1),\n",
       " (u'TRUMP_2015', 1),\n",
       " (u'BUSH_2015', 1),\n",
       " (u'FIORINA_2015', 1),\n",
       " (u'TRUMP_2015', 1),\n",
       " (u'SANTORUM_2015', 1),\n",
       " (u'CHRISTIE_2016', 1),\n",
       " (u'SANTORUM_2016', 1),\n",
       " (u'JINDAL_2016', 1),\n",
       " (u'HUCKABEE_2016', 1),\n",
       " (u'JINDAL_2016', 1),\n",
       " (u'PATAKI_2015', 1),\n",
       " (u'GRAHAM_2015', 1),\n",
       " (u'JINDAL_2015', 1),\n",
       " (u'SANTORUM_2015', 1),\n",
       " (u'RYAN_2012', 1),\n",
       " (u'BIDEN_2012', 1),\n",
       " (u'GINGRICH_2012', 1),\n",
       " (u'SANTORUM_2012', 1),\n",
       " (u'ROMNEY_2012', 1),\n",
       " (u'PAUL_2012', 1),\n",
       " (u'GINGRICH_2012', 1),\n",
       " (u'PAUL_2012', 1),\n",
       " (u'SANTORUM_2012', 1),\n",
       " (u'ROMNEY_2012', 1),\n",
       " (u'GINGRICH_2012', 1),\n",
       " (u'SANTORUM_2012', 1),\n",
       " (u'ROMNEY_2012', 1),\n",
       " (u'PAUL_2012', 1),\n",
       " (u'GINGRICH_2012', 1),\n",
       " (u'SANTORUM_2012', 1),\n",
       " (u'ROMNEY_2012', 1),\n",
       " (u'PAUL_2012', 1),\n",
       " (u'SANTORUM_2012', 1),\n",
       " (u'ROMNEY_2012', 1),\n",
       " (u'PAUL_2012', 1),\n",
       " (u'SANTORUM_2012', 1),\n",
       " (u'ROMNEY_2012', 1),\n",
       " (u'HUNTSMAN_2012', 1),\n",
       " (u'BACHMANN_2012', 1),\n",
       " (u'GINGRICH_2012', 1),\n",
       " (u'ROMNEY_2012', 1),\n",
       " (u'PAUL_2012', 1),\n",
       " (u'BACHMANN_2012', 1),\n",
       " (u'GINGRICH_2012', 1),\n",
       " (u'PERRY_2012', 1),\n",
       " (u'SANTORUM_2012', 1),\n",
       " (u'ROMNEY_2012', 1),\n",
       " (u'GINGRICH_2012', 1),\n",
       " (u'PERRY_2012', 1),\n",
       " (u'ROMNEY_2012', 1),\n",
       " (u'PAUL_2012', 1),\n",
       " (u'HUNTSMAN_2012', 1),\n",
       " (u'ROMNEY_2012', 1),\n",
       " (u'ROMNEY_2011', 1),\n",
       " (u'SANTORUM_2011', 1),\n",
       " (u'ROMNEY_2011', 1),\n",
       " (u'PAUL_2011', 1),\n",
       " (u'PERRY_2011', 1),\n",
       " (u'ROMNEY_2011', 1),\n",
       " (u'PERRY_2011', 1),\n",
       " (u'ROMNEY_2011', 1),\n",
       " (u'PERRY_2011', 1),\n",
       " (u'ROMNEY_2011', 1),\n",
       " (u'ROMNEY_2011', 1),\n",
       " (u'PERRY_2011', 1),\n",
       " (u'GINGRICH_2011', 1),\n",
       " (u'PAUL_2011', 1),\n",
       " (u'ROMNEY_2011', 1),\n",
       " (u'BACHMANN_2011', 1),\n",
       " (u'PAWLENTY_2011', 1),\n",
       " (u'ROMNEY_2011', 1),\n",
       " (u'PAUL_2011', 1),\n",
       " (u'SANTORUM_2011', 1),\n",
       " (u'SANTORUM_2011', 1),\n",
       " (u'PAWLENTY_2011', 1),\n",
       " (u'PAUL_2011', 1),\n",
       " (u'ROMNEY_2011', 1),\n",
       " (u'OBAMA_2011', 1),\n",
       " (u'MCCAIN_2011', 1),\n",
       " (u'OBAMA_2011', 1),\n",
       " (u'MCCAIN_2011', 1),\n",
       " (u'OBAMA_2011', 1),\n",
       " (u'MCCAIN_2011', 1),\n",
       " (u'PALIN_2011', 1),\n",
       " (u'BIDEN_2011', 1),\n",
       " (u'CLINTON_2008', 1),\n",
       " (u'OBAMA_2008', 1),\n",
       " (u'OBAMA_2008', 1),\n",
       " (u'CLINTON_2008', 1),\n",
       " (u'CLINTON_2008', 1),\n",
       " (u'OBAMA_2008', 1),\n",
       " (u'CLINTON_2008', 1),\n",
       " (u'OBAMA_2008', 1),\n",
       " (u'CLINTON_2008', 1),\n",
       " (u'EDWARDS_2008', 1),\n",
       " (u'OBAMA_2008', 1),\n",
       " (u'CLINTON_2008', 1),\n",
       " (u'OBAMA_2008', 1),\n",
       " (u'RICHARDSON_2008', 1),\n",
       " (u'EDWARDS_2008', 1),\n",
       " (u'DODD_2008', 1),\n",
       " (u'CLINTON_2008', 1),\n",
       " (u'OBAMA_2008', 1),\n",
       " (u'BIDEN_2008', 1),\n",
       " (u'RICHARDSON_2008', 1),\n",
       " (u'EDWARDS_2008', 1),\n",
       " (u'DODD_2008', 1),\n",
       " (u'CLINTON_2008', 1),\n",
       " (u'EDWARDS_2008', 1),\n",
       " (u'OBAMA_2008', 1),\n",
       " (u'BIDEN_2008', 1),\n",
       " (u'CLINTON_2008', 1),\n",
       " (u'EDWARDS_2008', 1),\n",
       " (u'BIDEN_2008', 1),\n",
       " (u'RICHARDSON_2008', 1),\n",
       " (u'OBAMA_2008', 1),\n",
       " (u'DODD_2008', 1),\n",
       " (u'CLINTON_2008', 1),\n",
       " (u'EDWARDS_2008', 1),\n",
       " (u'OBAMA_2008', 1),\n",
       " (u'DODD_2008', 1),\n",
       " (u'CLINTON_2008', 1),\n",
       " (u'EDWARDS_2008', 1),\n",
       " (u'OBAMA_2008', 1),\n",
       " (u'RICHARDSON_2008', 1),\n",
       " (u'OBAMA_2007', 1),\n",
       " (u'OBAMA_2007', 1),\n",
       " (u'CLINTON_2007', 1),\n",
       " (u'OBAMA_2007', 1),\n",
       " (u'CLINTON_2007', 1),\n",
       " (u'DODD_2007', 1),\n",
       " (u'OBAMA_2007', 1),\n",
       " (u'EDWARDS_2007', 1),\n",
       " (u'CLINTON_2007', 1),\n",
       " (u'DODD_2007', 1),\n",
       " (u'CLINTON_2007', 1),\n",
       " (u'OBAMA_2007', 1),\n",
       " (u'EDWARDS_2007', 1),\n",
       " (u'DODD_2007', 1),\n",
       " (u'ROMNEY_2007', 1),\n",
       " (u'MCCAIN_2007', 1),\n",
       " (u'HUCKABEE_2007', 1),\n",
       " (u'ROMNEY_2007', 1),\n",
       " (u'GIULIANI_2007', 1),\n",
       " (u'MCCAIN_2007', 1),\n",
       " (u'HUCKABEE_2007', 1),\n",
       " (u'MCCAIN_2007', 1),\n",
       " (u'GIULIANI_2007', 1),\n",
       " (u'HUCKABEE_2007', 1),\n",
       " (u'PAUL_2007', 1),\n",
       " (u'ROMNEY_2007', 1),\n",
       " (u'THOMPSON_2007', 1),\n",
       " (u'GIULIANI_2007', 1),\n",
       " (u'ROMNEY_2007', 1),\n",
       " (u'MCCAIN_2007', 1),\n",
       " (u'HUCKABEE_2007', 1),\n",
       " (u'THOMPSON_2007', 1),\n",
       " (u'GIULIANI_2007', 1),\n",
       " (u'ROMNEY_2007', 1),\n",
       " (u'MCCAIN_2007', 1),\n",
       " (u'HUCKABEE_2007', 1),\n",
       " (u'GIULIANI_2008', 1),\n",
       " (u'ROMNEY_2008', 1),\n",
       " (u'HUCKABEE_2008', 1),\n",
       " (u'OTHERS_2008', 1),\n",
       " (u'GIULIANI_2008', 1),\n",
       " (u'GIULIANI_2008', 1),\n",
       " (u'ROMNEY_2008', 1),\n",
       " (u'THOMPSON_2008', 1),\n",
       " (u'GIULIANI_2008', 1),\n",
       " (u'ROMNEY_2008', 1),\n",
       " (u'MCCAIN_2008', 1),\n",
       " (u'TANCREDO_2008', 1),\n",
       " (u'HUCKABEE_2008', 1),\n",
       " (u'HUNTER_2008', 1),\n",
       " (u'KEYES_2008', 1),\n",
       " (u'GIULIANI_2007', 1),\n",
       " (u'ROMNEY_2007', 1),\n",
       " (u'ROMNEY_2007', 1),\n",
       " (u'GIULIANI_2007', 1),\n",
       " (u'GIULIANI_2007', 1),\n",
       " (u'MCCAIN_2007', 1),\n",
       " (u'ROMNEY_2007', 1),\n",
       " (u'EDWARDS_2007', 1),\n",
       " (u'CHENEY_2007', 1),\n",
       " (u'EDWARDS_2007', 1),\n",
       " (u'LIEBERMAN_2007', 1),\n",
       " (u'KERRY_2007', 1),\n",
       " (u'GORE_2004 ', 1),\n",
       " (u'BUSH_2004 ', 1),\n",
       " (u'GORE_2004 ', 1),\n",
       " (u'BUSH_2004 ', 1),\n",
       " (u'GORE_2004 ', 1),\n",
       " (u'BUSH_2004 ', 1),\n",
       " (u'CHENEY_2004 ', 1),\n",
       " (u'LIEBERMAN_2004 ', 1),\n",
       " (u'MODERATORS_2004', 1),\n",
       " (u'MODERATORS_2000 ', 1),\n",
       " (u'MODERATOR_2000 ', 1),\n",
       " (u'RUSSERT_2000 ', 1),\n",
       " (u'GORE_2000 ', 1),\n",
       " (u'BRADLEY_2000 ', 1),\n",
       " (u'MODERATORS_2000', 1),\n",
       " (u'LIVE_2000', 1),\n",
       " (u'MODERATORS_2000', 1),\n",
       " (u'MODERATOR_2000', 1),\n",
       " (u'MODERATORS_2000', 1),\n",
       " (u'MODERATORS_1999', 1),\n",
       " (u'FORBES_1999', 1),\n",
       " (u'MCCAIN_1999', 1),\n",
       " (u'KEYES_1999', 1),\n",
       " (u'HATCH_1999', 1),\n",
       " (u'BUSH_1999', 1),\n",
       " (u'KEYES_1999', 1),\n",
       " (u'BAUER_2000', 1),\n",
       " (u'CAIN_2000', 1),\n",
       " (u'KEYES_2000', 1),\n",
       " (u'KEMP_2000', 1),\n",
       " (u'GORE_2000', 1),\n",
       " (u'GORE_1999', 1),\n",
       " (u'QUAYLE_1999', 1),\n",
       " (u'STOCKDALE_1999', 1),\n",
       " (u'BUSH_1999', 1),\n",
       " (u'DUKAKIS_1999', 1),\n",
       " (u'BUSH_1999', 1),\n",
       " (u'DUKAKIS_1999', 1),\n",
       " (u'QUAYLE_1996', 1),\n",
       " (u'BENTSEN_1996', 1),\n",
       " (u'FERRARO_1992', 1),\n",
       " (u'BUSH_1992', 1),\n",
       " (u'ANDERSON_1992', 1),\n",
       " (u'REAGAN_1992', 1),\n",
       " (u'MONDALE_1988', 1),\n",
       " (u'DOLE_1988', 1),\n",
       " (u'NIXON_1984', 1),\n",
       " (u'KENNEDY_1984', 1),\n",
       " (u'NIXON_1984', 1),\n",
       " (u'KENNEDY_1984', 1),\n",
       " (u'NIXON_1984', 1),\n",
       " (u'KENNEDY_1984', 1),\n",
       " (u'KENNEDY_1980', 1),\n",
       " (u'NIXON_1980', 1)]"
      ]
     },
     "execution_count": 121,
     "metadata": {},
     "output_type": "execute_result"
    }
   ],
   "source": [
    "[group for group in groups if group[1] == 1]"
   ]
  },
  {
   "cell_type": "code",
   "execution_count": 31,
   "metadata": {
    "collapsed": true
   },
   "outputs": [],
   "source": [
    "svd = TruncatedSVD(n_components=100)\n",
    "X = svd.fit_transform(tfidf_statements)"
   ]
  },
  {
   "cell_type": "code",
   "execution_count": 63,
   "metadata": {
    "collapsed": false
   },
   "outputs": [
    {
     "data": {
      "text/plain": [
       "(array([ 296.,    0.,    0.,    0.,    0.,   28.,    0.,    0.,    0.,   21.]),\n",
       " array([ 0. ,  0.2,  0.4,  0.6,  0.8,  1. ,  1.2,  1.4,  1.6,  1.8,  2. ]),\n",
       " <a list of 10 Patch objects>)"
      ]
     },
     "execution_count": 63,
     "metadata": {},
     "output_type": "execute_result"
    },
    {
     "data": {
      "image/png": "[encoded data removed]",
      "text/plain": [
       "<matplotlib.figure.Figure at 0x10e36f390>"
      ]
     },
     "metadata": {},
     "output_type": "display_data"
    }
   ],
   "source": []
  },
  {
   "cell_type": "code",
   "execution_count": null,
   "metadata": {
    "collapsed": true
   },
   "outputs": [],
   "source": []
  },
  {
   "cell_type": "code",
   "execution_count": null,
   "metadata": {
    "collapsed": true
   },
   "outputs": [],
   "source": []
  }
 ],
 "metadata": {
  "kernelspec": {
   "display_name": "Python 2",
   "language": "python",
   "name": "python2"
  },
  "language_info": {
   "codemirror_mode": {
    "name": "ipython",
    "version": 2
   },
   "file_extension": ".py",
   "mimetype": "text/x-python",
   "name": "python",
   "nbconvert_exporter": "python",
   "pygments_lexer": "ipython2",
   "version": "2.7.11"
  }
 },
 "nbformat": 4,
 "nbformat_minor": 0
}
