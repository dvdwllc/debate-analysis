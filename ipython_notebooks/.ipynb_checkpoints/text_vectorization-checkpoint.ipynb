{
 "cells": [
  {
   "cell_type": "code",
   "execution_count": 1,
   "metadata": {
    "collapsed": false
   },
   "outputs": [
    {
     "name": "stderr",
     "output_type": "stream",
     "text": [
      "/Users/wallacdc/anaconda/lib/python2.7/site-packages/matplotlib/font_manager.py:273: UserWarning: Matplotlib is building the font cache using fc-list. This may take a moment.\n",
      "  warnings.warn('Matplotlib is building the font cache using fc-list. This may take a moment.')\n",
      "/Users/wallacdc/anaconda/lib/python2.7/site-packages/matplotlib/__init__.py:872: UserWarning: axes.color_cycle is deprecated and replaced with axes.prop_cycle; please use the latter.\n",
      "  warnings.warn(self.msg_depr % (key, alt_key))\n"
     ]
    }
   ],
   "source": [
    "import dill\n",
    "from sklearn.feature_extraction.text import TfidfVectorizer\n",
    "import numpy as np\n",
    "import pandas as pd\n",
    "from sklearn.cluster import KMeans\n",
    "from sklearn.decomposition import TruncatedSVD\n",
    "import matplotlib.pyplot as plt\n",
    "from sklearn.pipeline import Pipeline\n",
    "from sklearn.naive_bayes import BernoulliNB\n",
    "from sklearn.grid_search import GridSearchCV\n",
    "import seaborn as sns"
   ]
  },
  {
   "cell_type": "code",
   "execution_count": 2,
   "metadata": {
    "collapsed": true
   },
   "outputs": [],
   "source": [
    "%matplotlib inline"
   ]
  },
  {
   "cell_type": "code",
   "execution_count": 3,
   "metadata": {
    "collapsed": true
   },
   "outputs": [],
   "source": [
    "transcripts = dill.load(open('../dills/debate_transcripts_list.dill', 'r'))"
   ]
  },
  {
   "cell_type": "code",
   "execution_count": 61,
   "metadata": {
    "collapsed": false
   },
   "outputs": [],
   "source": [
    "spectrum = pd.read_csv('../txt/huffpo_spectrum.txt',names=['firstname','lastname','rating'])"
   ]
  },
  {
   "cell_type": "code",
   "execution_count": 60,
   "metadata": {
    "collapsed": true
   },
   "outputs": [],
   "source": [
    "def lower2(s):\n",
    "    return s.lower()"
   ]
  },
  {
   "cell_type": "code",
   "execution_count": 93,
   "metadata": {
    "collapsed": false
   },
   "outputs": [],
   "source": [
    "speakers = []# flattened dict of all candidates and their statements\n",
    "statements = []\n",
    "labels = [] # 0 for dem, 1 for republican\n",
    "ratings = []\n",
    "# all_statements = [] # list of all statements\n",
    "for debate in transcripts:\n",
    "    if debate != 0:\n",
    "        for speaker in debate:\n",
    "            if (speaker[-4:] == '2015' or speaker[-4:] == '2016') and (\n",
    "                speaker[2:-5].lower() in spectrum['lastname'].map(lower2).values\n",
    "                ):\n",
    "                #print speaker[2:-5]\n",
    "                statement = ''.join(debate[speaker])\n",
    "                speakers.append(speaker[2:-5])\n",
    "                if speaker[0] == 'D':\n",
    "                    labels.append('Dem')\n",
    "                else:\n",
    "                    labels.append('Rep')\n",
    "                statements.append(statement)\n",
    "                ratings.append(spectrum[spectrum['lastname'].map(lower2) == speaker[2:-5].lower()]['rating'].values[0])\n",
    "            \n",
    "df = pd.DataFrame([speakers, statements, labels, ratings],['Candidate','Statement','Label','Rating']).T"
   ]
  },
  {
   "cell_type": "code",
   "execution_count": 81,
   "metadata": {
    "collapsed": false
   },
   "outputs": [],
   "source": [
    "# to fix class imbalance, resample\n",
    "reps = df[df['Label']=='Rep']\n",
    "dems = df[df['Label']=='Dem']\n",
    "#df2 = pd.concat([dems, reps.sample(n=111)])"
   ]
  },
  {
   "cell_type": "code",
   "execution_count": 91,
   "metadata": {
    "collapsed": false
   },
   "outputs": [],
   "source": [
    "tfidf = TfidfVectorizer(stop_words='english', ngram_range=(2,4), min_df=0.05, max_df=0.6)\n",
    "bernNB = BernoulliNB()\n",
    "pipe = Pipeline(\n",
    "    [\n",
    "        ('tfidf', tfidf),\n",
    "        ('gaussNB', bernNB)\n",
    "    ]\n",
    ")"
   ]
  },
  {
   "cell_type": "code",
   "execution_count": 94,
   "metadata": {
    "collapsed": false
   },
   "outputs": [
    {
     "name": "stdout",
     "output_type": "stream",
     "text": [
      "Best Score from Grid Search: 0.9609375\n"
     ]
    }
   ],
   "source": [
    "parameters = {'tfidf__min_df':[0.05, 0.07], 'tfidf__max_df':[0.38, 0.42]}\n",
    "gscv = GridSearchCV(pipe, parameters)\n",
    "gscv.fit(df['Statement'], df['Label'])\n",
    "print 'Best Score from Grid Search:',gscv.best_score_"
   ]
  },
  {
   "cell_type": "code",
   "execution_count": 7,
   "metadata": {
    "collapsed": false
   },
   "outputs": [
    {
     "data": {
      "text/plain": [
       "1459"
      ]
     },
     "execution_count": 7,
     "metadata": {},
     "output_type": "execute_result"
    }
   ],
   "source": [
    "len(df['Statement'][11][:8000].split(' '))"
   ]
  },
  {
   "cell_type": "code",
   "execution_count": 85,
   "metadata": {
    "collapsed": false
   },
   "outputs": [],
   "source": [
    "with open('../txt/clinton.txt', 'r') as myfile:\n",
    "    text=myfile.read().replace('\\n', '')"
   ]
  },
  {
   "cell_type": "code",
   "execution_count": 86,
   "metadata": {
    "collapsed": false
   },
   "outputs": [
    {
     "name": "stdout",
     "output_type": "stream",
     "text": [
      "[[  7.33596053e-56   1.00000000e+00]] ['Rep']\n"
     ]
    }
   ],
   "source": [
    "print gscv.best_estimator_.predict_proba([text]), gscv.best_estimator_.predict([text])"
   ]
  },
  {
   "cell_type": "code",
   "execution_count": 19,
   "metadata": {
    "collapsed": false
   },
   "outputs": [],
   "source": [
    "from sklearn.svm import LinearSVC"
   ]
  },
  {
   "cell_type": "code",
   "execution_count": 29,
   "metadata": {
    "collapsed": false
   },
   "outputs": [],
   "source": [
    "#help(sklearn.svm)"
   ]
  },
  {
   "cell_type": "code",
   "execution_count": 28,
   "metadata": {
    "collapsed": false
   },
   "outputs": [
    {
     "name": "stdout",
     "output_type": "stream",
     "text": [
      "Best Score from Grid Search: 0.882882882883\n"
     ]
    }
   ],
   "source": [
    "svc = LinearSVC()\n",
    "svcpipe = Pipeline(\n",
    "    [\n",
    "        ('tfidf', tfidf),\n",
    "        ('svc', svc)\n",
    "    ]\n",
    ")\n",
    "\n",
    "parameters = {'tfidf__min_df':[0.045, 0.05], 'tfidf__max_df':[0.38, 0.39]}\n",
    "svc_cv = GridSearchCV(svcpipe, parameters, cv=4)\n",
    "svc_cv.fit(df2['Statement'], df2['Label'])\n",
    "print 'Best Score from Grid Search:',svc_cv.best_score_"
   ]
  },
  {
   "cell_type": "code",
   "execution_count": 33,
   "metadata": {
    "collapsed": false
   },
   "outputs": [
    {
     "data": {
      "text/plain": [
       "array(['Rep'], dtype=object)"
      ]
     },
     "execution_count": 33,
     "metadata": {},
     "output_type": "execute_result"
    }
   ],
   "source": [
    "svc_cv.best_estimator_.predict([df['Statement'][11][1000:1500]])"
   ]
  },
  {
   "cell_type": "code",
   "execution_count": 32,
   "metadata": {
    "collapsed": false
   },
   "outputs": [
    {
     "data": {
      "text/plain": [
       "'Dem'"
      ]
     },
     "execution_count": 32,
     "metadata": {},
     "output_type": "execute_result"
    }
   ],
   "source": [
    "df['Label'][11]#[1000:2000]"
   ]
  },
  {
   "cell_type": "code",
   "execution_count": 32,
   "metadata": {
    "collapsed": false
   },
   "outputs": [],
   "source": [
    "word_counts = []\n",
    "for i in range(len(df)):\n",
    "    count = 0\n",
    "    words = {}\n",
    "    for word in df['Statement'][i].split(' '):\n",
    "        if word not in words:\n",
    "            words[word] = 1\n",
    "            count += 1\n",
    "        else:\n",
    "            pass\n",
    "    word_counts.append(count)\n",
    "\n",
    "df['unique words'] = word_counts"
   ]
  },
  {
   "cell_type": "code",
   "execution_count": 119,
   "metadata": {
    "collapsed": false
   },
   "outputs": [],
   "source": [
    "groups = zip(speakers, labels.tolist())"
   ]
  },
  {
   "cell_type": "code",
   "execution_count": 41,
   "metadata": {
    "collapsed": false
   },
   "outputs": [
    {
     "data": {
      "text/plain": [
       "<matplotlib.axes._subplots.AxesSubplot at 0x134654bd0>"
      ]
     },
     "execution_count": 41,
     "metadata": {},
     "output_type": "execute_result"
    },
    {
     "data": {
      "image/png": "[encoded data removed]",
      "text/plain": [
       "<matplotlib.figure.Figure at 0x134607f50>"
      ]
     },
     "metadata": {},
     "output_type": "display_data"
    }
   ],
   "source": [
    "sns.distplot(df[df['Label'] == 'Republican']['unique words'],label='R')\n",
    "sns.distplot(df[df['Label'] == 'Democrat']['unique words'],label='D')"
   ]
  },
  {
   "cell_type": "code",
   "execution_count": 31,
   "metadata": {
    "collapsed": true
   },
   "outputs": [],
   "source": [
    "svd = TruncatedSVD(n_components=100)\n",
    "X = svd.fit_transform(tfidf_statements)"
   ]
  },
  {
   "cell_type": "code",
   "execution_count": 63,
   "metadata": {
    "collapsed": false
   },
   "outputs": [
    {
     "data": {
      "text/plain": [
       "(array([ 296.,    0.,    0.,    0.,    0.,   28.,    0.,    0.,    0.,   21.]),\n",
       " array([ 0. ,  0.2,  0.4,  0.6,  0.8,  1. ,  1.2,  1.4,  1.6,  1.8,  2. ]),\n",
       " <a list of 10 Patch objects>)"
      ]
     },
     "execution_count": 63,
     "metadata": {},
     "output_type": "execute_result"
    },
    {
     "data": {
      "image/png": "[encoded data removed]",
      "text/plain": [
       "<matplotlib.figure.Figure at 0x10e36f390>"
      ]
     },
     "metadata": {},
     "output_type": "display_data"
    }
   ],
   "source": []
  },
  {
   "cell_type": "code",
   "execution_count": 117,
   "metadata": {
    "collapsed": false
   },
   "outputs": [
    {
     "data": {
      "text/plain": [
       "<bound method GridSearchCV.get_params of GridSearchCV(cv=2, error_score='raise',\n",
       "       estimator=Pipeline(steps=[('tfidf', TfidfVectorizer(analyzer=u'word', binary=False, decode_error=u'strict',\n",
       "        dtype=<type 'numpy.int64'>, encoding=u'utf-8', input=u'content',\n",
       "        lowercase=True, max_df=0.4, max_features=None, min_df=0.05,\n",
       "        ngram_range=(2, 2), norm=u'l2', preprocessor=None, smooth_idf=...ax_iter=1000,\n",
       "     multi_class='ovr', penalty='l2', random_state=None, tol=0.0001,\n",
       "     verbose=0))]),\n",
       "       fit_params={}, iid=True, loss_func=None, n_jobs=1,\n",
       "       param_grid={'tfidf__max_df': [0.38, 0.39], 'tfidf__min_df': [0.045, 0.05]},\n",
       "       pre_dispatch='2*n_jobs', refit=True, score_func=None, scoring=None,\n",
       "       verbose=0)>"
      ]
     },
     "execution_count": 117,
     "metadata": {},
     "output_type": "execute_result"
    }
   ],
   "source": [
    "svc_cv.get_params"
   ]
  },
  {
   "cell_type": "code",
   "execution_count": 15,
   "metadata": {
    "collapsed": false,
    "scrolled": true
   },
   "outputs": [
    {
     "ename": "SyntaxError",
     "evalue": "invalid syntax (<ipython-input-15-29f085e12e63>, line 1)",
     "output_type": "error",
     "traceback": [
      "\u001b[0;36m  File \u001b[0;32m\"<ipython-input-15-29f085e12e63>\"\u001b[0;36m, line \u001b[0;32m1\u001b[0m\n\u001b[0;31m    np.argwhere('Clinton' like df['Candidate'].values)\u001b[0m\n\u001b[0m                             ^\u001b[0m\n\u001b[0;31mSyntaxError\u001b[0m\u001b[0;31m:\u001b[0m invalid syntax\n"
     ]
    }
   ],
   "source": [
    "np.argwhere()"
   ]
  },
  {
   "cell_type": "code",
   "execution_count": 11,
   "metadata": {
    "collapsed": false
   },
   "outputs": [
    {
     "ename": "KeyError",
     "evalue": "\"'Candidate' LIKE clinton\"",
     "output_type": "error",
     "traceback": [
      "\u001b[0;31m---------------------------------------------------------------------------\u001b[0m",
      "\u001b[0;31mKeyError\u001b[0m                                  Traceback (most recent call last)",
      "\u001b[0;32m<ipython-input-11-11c7612a0ad1>\u001b[0m in \u001b[0;36m<module>\u001b[0;34m()\u001b[0m\n\u001b[0;32m----> 1\u001b[0;31m \u001b[0mdf\u001b[0m\u001b[0;34m[\u001b[0m\u001b[0;34m(\u001b[0m\u001b[0;34m\"'Candidate' LIKE clinton\"\u001b[0m\u001b[0;34m)\u001b[0m\u001b[0;34m]\u001b[0m\u001b[0;34m\u001b[0m\u001b[0m\n\u001b[0m",
      "\u001b[0;32m/Users/wallacdc/anaconda/lib/python2.7/site-packages/pandas/core/frame.pyc\u001b[0m in \u001b[0;36m__getitem__\u001b[0;34m(self, key)\u001b[0m\n\u001b[1;32m   1912\u001b[0m             \u001b[0;32mreturn\u001b[0m \u001b[0mself\u001b[0m\u001b[0;34m.\u001b[0m\u001b[0m_getitem_multilevel\u001b[0m\u001b[0;34m(\u001b[0m\u001b[0mkey\u001b[0m\u001b[0;34m)\u001b[0m\u001b[0;34m\u001b[0m\u001b[0m\n\u001b[1;32m   1913\u001b[0m         \u001b[0;32melse\u001b[0m\u001b[0;34m:\u001b[0m\u001b[0;34m\u001b[0m\u001b[0m\n\u001b[0;32m-> 1914\u001b[0;31m             \u001b[0;32mreturn\u001b[0m \u001b[0mself\u001b[0m\u001b[0;34m.\u001b[0m\u001b[0m_getitem_column\u001b[0m\u001b[0;34m(\u001b[0m\u001b[0mkey\u001b[0m\u001b[0;34m)\u001b[0m\u001b[0;34m\u001b[0m\u001b[0m\n\u001b[0m\u001b[1;32m   1915\u001b[0m \u001b[0;34m\u001b[0m\u001b[0m\n\u001b[1;32m   1916\u001b[0m     \u001b[0;32mdef\u001b[0m \u001b[0m_getitem_column\u001b[0m\u001b[0;34m(\u001b[0m\u001b[0mself\u001b[0m\u001b[0;34m,\u001b[0m \u001b[0mkey\u001b[0m\u001b[0;34m)\u001b[0m\u001b[0;34m:\u001b[0m\u001b[0;34m\u001b[0m\u001b[0m\n",
      "\u001b[0;32m/Users/wallacdc/anaconda/lib/python2.7/site-packages/pandas/core/frame.pyc\u001b[0m in \u001b[0;36m_getitem_column\u001b[0;34m(self, key)\u001b[0m\n\u001b[1;32m   1919\u001b[0m         \u001b[0;31m# get column\u001b[0m\u001b[0;34m\u001b[0m\u001b[0;34m\u001b[0m\u001b[0m\n\u001b[1;32m   1920\u001b[0m         \u001b[0;32mif\u001b[0m \u001b[0mself\u001b[0m\u001b[0;34m.\u001b[0m\u001b[0mcolumns\u001b[0m\u001b[0;34m.\u001b[0m\u001b[0mis_unique\u001b[0m\u001b[0;34m:\u001b[0m\u001b[0;34m\u001b[0m\u001b[0m\n\u001b[0;32m-> 1921\u001b[0;31m             \u001b[0;32mreturn\u001b[0m \u001b[0mself\u001b[0m\u001b[0;34m.\u001b[0m\u001b[0m_get_item_cache\u001b[0m\u001b[0;34m(\u001b[0m\u001b[0mkey\u001b[0m\u001b[0;34m)\u001b[0m\u001b[0;34m\u001b[0m\u001b[0m\n\u001b[0m\u001b[1;32m   1922\u001b[0m \u001b[0;34m\u001b[0m\u001b[0m\n\u001b[1;32m   1923\u001b[0m         \u001b[0;31m# duplicate columns & possible reduce dimensionaility\u001b[0m\u001b[0;34m\u001b[0m\u001b[0;34m\u001b[0m\u001b[0m\n",
      "\u001b[0;32m/Users/wallacdc/anaconda/lib/python2.7/site-packages/pandas/core/generic.pyc\u001b[0m in \u001b[0;36m_get_item_cache\u001b[0;34m(self, item)\u001b[0m\n\u001b[1;32m   1088\u001b[0m         \u001b[0mres\u001b[0m \u001b[0;34m=\u001b[0m \u001b[0mcache\u001b[0m\u001b[0;34m.\u001b[0m\u001b[0mget\u001b[0m\u001b[0;34m(\u001b[0m\u001b[0mitem\u001b[0m\u001b[0;34m)\u001b[0m\u001b[0;34m\u001b[0m\u001b[0m\n\u001b[1;32m   1089\u001b[0m         \u001b[0;32mif\u001b[0m \u001b[0mres\u001b[0m \u001b[0;32mis\u001b[0m \u001b[0mNone\u001b[0m\u001b[0;34m:\u001b[0m\u001b[0;34m\u001b[0m\u001b[0m\n\u001b[0;32m-> 1090\u001b[0;31m             \u001b[0mvalues\u001b[0m \u001b[0;34m=\u001b[0m \u001b[0mself\u001b[0m\u001b[0;34m.\u001b[0m\u001b[0m_data\u001b[0m\u001b[0;34m.\u001b[0m\u001b[0mget\u001b[0m\u001b[0;34m(\u001b[0m\u001b[0mitem\u001b[0m\u001b[0;34m)\u001b[0m\u001b[0;34m\u001b[0m\u001b[0m\n\u001b[0m\u001b[1;32m   1091\u001b[0m             \u001b[0mres\u001b[0m \u001b[0;34m=\u001b[0m \u001b[0mself\u001b[0m\u001b[0;34m.\u001b[0m\u001b[0m_box_item_values\u001b[0m\u001b[0;34m(\u001b[0m\u001b[0mitem\u001b[0m\u001b[0;34m,\u001b[0m \u001b[0mvalues\u001b[0m\u001b[0;34m)\u001b[0m\u001b[0;34m\u001b[0m\u001b[0m\n\u001b[1;32m   1092\u001b[0m             \u001b[0mcache\u001b[0m\u001b[0;34m[\u001b[0m\u001b[0mitem\u001b[0m\u001b[0;34m]\u001b[0m \u001b[0;34m=\u001b[0m \u001b[0mres\u001b[0m\u001b[0;34m\u001b[0m\u001b[0m\n",
      "\u001b[0;32m/Users/wallacdc/anaconda/lib/python2.7/site-packages/pandas/core/internals.pyc\u001b[0m in \u001b[0;36mget\u001b[0;34m(self, item, fastpath)\u001b[0m\n\u001b[1;32m   3100\u001b[0m \u001b[0;34m\u001b[0m\u001b[0m\n\u001b[1;32m   3101\u001b[0m             \u001b[0;32mif\u001b[0m \u001b[0;32mnot\u001b[0m \u001b[0misnull\u001b[0m\u001b[0;34m(\u001b[0m\u001b[0mitem\u001b[0m\u001b[0;34m)\u001b[0m\u001b[0;34m:\u001b[0m\u001b[0;34m\u001b[0m\u001b[0m\n\u001b[0;32m-> 3102\u001b[0;31m                 \u001b[0mloc\u001b[0m \u001b[0;34m=\u001b[0m \u001b[0mself\u001b[0m\u001b[0;34m.\u001b[0m\u001b[0mitems\u001b[0m\u001b[0;34m.\u001b[0m\u001b[0mget_loc\u001b[0m\u001b[0;34m(\u001b[0m\u001b[0mitem\u001b[0m\u001b[0;34m)\u001b[0m\u001b[0;34m\u001b[0m\u001b[0m\n\u001b[0m\u001b[1;32m   3103\u001b[0m             \u001b[0;32melse\u001b[0m\u001b[0;34m:\u001b[0m\u001b[0;34m\u001b[0m\u001b[0m\n\u001b[1;32m   3104\u001b[0m                 \u001b[0mindexer\u001b[0m \u001b[0;34m=\u001b[0m \u001b[0mnp\u001b[0m\u001b[0;34m.\u001b[0m\u001b[0marange\u001b[0m\u001b[0;34m(\u001b[0m\u001b[0mlen\u001b[0m\u001b[0;34m(\u001b[0m\u001b[0mself\u001b[0m\u001b[0;34m.\u001b[0m\u001b[0mitems\u001b[0m\u001b[0;34m)\u001b[0m\u001b[0;34m)\u001b[0m\u001b[0;34m[\u001b[0m\u001b[0misnull\u001b[0m\u001b[0;34m(\u001b[0m\u001b[0mself\u001b[0m\u001b[0;34m.\u001b[0m\u001b[0mitems\u001b[0m\u001b[0;34m)\u001b[0m\u001b[0;34m]\u001b[0m\u001b[0;34m\u001b[0m\u001b[0m\n",
      "\u001b[0;32m/Users/wallacdc/anaconda/lib/python2.7/site-packages/pandas/core/index.pyc\u001b[0m in \u001b[0;36mget_loc\u001b[0;34m(self, key, method, tolerance)\u001b[0m\n\u001b[1;32m   1690\u001b[0m                 raise ValueError('tolerance argument only valid if using pad, '\n\u001b[1;32m   1691\u001b[0m                                  'backfill or nearest lookups')\n\u001b[0;32m-> 1692\u001b[0;31m             \u001b[0;32mreturn\u001b[0m \u001b[0mself\u001b[0m\u001b[0;34m.\u001b[0m\u001b[0m_engine\u001b[0m\u001b[0;34m.\u001b[0m\u001b[0mget_loc\u001b[0m\u001b[0;34m(\u001b[0m\u001b[0m_values_from_object\u001b[0m\u001b[0;34m(\u001b[0m\u001b[0mkey\u001b[0m\u001b[0;34m)\u001b[0m\u001b[0;34m)\u001b[0m\u001b[0;34m\u001b[0m\u001b[0m\n\u001b[0m\u001b[1;32m   1693\u001b[0m \u001b[0;34m\u001b[0m\u001b[0m\n\u001b[1;32m   1694\u001b[0m         indexer = self.get_indexer([key], method=method,\n",
      "\u001b[0;32mpandas/index.pyx\u001b[0m in \u001b[0;36mpandas.index.IndexEngine.get_loc (pandas/index.c:3979)\u001b[0;34m()\u001b[0m\n",
      "\u001b[0;32mpandas/index.pyx\u001b[0m in \u001b[0;36mpandas.index.IndexEngine.get_loc (pandas/index.c:3843)\u001b[0;34m()\u001b[0m\n",
      "\u001b[0;32mpandas/hashtable.pyx\u001b[0m in \u001b[0;36mpandas.hashtable.PyObjectHashTable.get_item (pandas/hashtable.c:12265)\u001b[0;34m()\u001b[0m\n",
      "\u001b[0;32mpandas/hashtable.pyx\u001b[0m in \u001b[0;36mpandas.hashtable.PyObjectHashTable.get_item (pandas/hashtable.c:12216)\u001b[0;34m()\u001b[0m\n",
      "\u001b[0;31mKeyError\u001b[0m: \"'Candidate' LIKE clinton\""
     ]
    }
   ],
   "source": [
    "df[(\"'Candidate' LIKE clinton\")]"
   ]
  },
  {
   "cell_type": "code",
   "execution_count": 62,
   "metadata": {
    "collapsed": false
   },
   "outputs": [
    {
     "data": {
      "text/html": [
       "<div>\n",
       "<table border=\"1\" class=\"dataframe\">\n",
       "  <thead>\n",
       "    <tr style=\"text-align: right;\">\n",
       "      <th></th>\n",
       "      <th>firstname</th>\n",
       "      <th>lastname</th>\n",
       "      <th>rating</th>\n",
       "    </tr>\n",
       "  </thead>\n",
       "  <tbody>\n",
       "    <tr>\n",
       "      <th>0</th>\n",
       "      <td>Jill</td>\n",
       "      <td>Stein</td>\n",
       "      <td>-10.0</td>\n",
       "    </tr>\n",
       "    <tr>\n",
       "      <th>1</th>\n",
       "      <td>Bernie</td>\n",
       "      <td>Sanders</td>\n",
       "      <td>-8.5</td>\n",
       "    </tr>\n",
       "    <tr>\n",
       "      <th>2</th>\n",
       "      <td>Hillary</td>\n",
       "      <td>Clinton</td>\n",
       "      <td>-6.8</td>\n",
       "    </tr>\n",
       "    <tr>\n",
       "      <th>3</th>\n",
       "      <td>Lincoln</td>\n",
       "      <td>Chafee</td>\n",
       "      <td>-4.8</td>\n",
       "    </tr>\n",
       "    <tr>\n",
       "      <th>4</th>\n",
       "      <td>Martin</td>\n",
       "      <td>Malley</td>\n",
       "      <td>-4.5</td>\n",
       "    </tr>\n",
       "    <tr>\n",
       "      <th>5</th>\n",
       "      <td>Jim</td>\n",
       "      <td>Webb</td>\n",
       "      <td>-3.2</td>\n",
       "    </tr>\n",
       "    <tr>\n",
       "      <th>6</th>\n",
       "      <td>Gary</td>\n",
       "      <td>Johnson</td>\n",
       "      <td>1.5</td>\n",
       "    </tr>\n",
       "    <tr>\n",
       "      <th>7</th>\n",
       "      <td>George</td>\n",
       "      <td>Pataki</td>\n",
       "      <td>2.0</td>\n",
       "    </tr>\n",
       "    <tr>\n",
       "      <th>8</th>\n",
       "      <td>Rand</td>\n",
       "      <td>Paul</td>\n",
       "      <td>2.2</td>\n",
       "    </tr>\n",
       "    <tr>\n",
       "      <th>9</th>\n",
       "      <td>Chris</td>\n",
       "      <td>Christie</td>\n",
       "      <td>2.5</td>\n",
       "    </tr>\n",
       "    <tr>\n",
       "      <th>10</th>\n",
       "      <td>Jim</td>\n",
       "      <td>Gilmore</td>\n",
       "      <td>4.0</td>\n",
       "    </tr>\n",
       "    <tr>\n",
       "      <th>11</th>\n",
       "      <td>Donald</td>\n",
       "      <td>Trump</td>\n",
       "      <td>4.0</td>\n",
       "    </tr>\n",
       "    <tr>\n",
       "      <th>12</th>\n",
       "      <td>Jeb</td>\n",
       "      <td>Bush</td>\n",
       "      <td>4.8</td>\n",
       "    </tr>\n",
       "    <tr>\n",
       "      <th>13</th>\n",
       "      <td>Carly</td>\n",
       "      <td>Fiorina</td>\n",
       "      <td>4.8</td>\n",
       "    </tr>\n",
       "    <tr>\n",
       "      <th>14</th>\n",
       "      <td>Mike</td>\n",
       "      <td>Huckabee</td>\n",
       "      <td>5.0</td>\n",
       "    </tr>\n",
       "    <tr>\n",
       "      <th>15</th>\n",
       "      <td>John</td>\n",
       "      <td>Kasich</td>\n",
       "      <td>5.0</td>\n",
       "    </tr>\n",
       "    <tr>\n",
       "      <th>16</th>\n",
       "      <td>Ben</td>\n",
       "      <td>Carson</td>\n",
       "      <td>5.8</td>\n",
       "    </tr>\n",
       "    <tr>\n",
       "      <th>17</th>\n",
       "      <td>Lindsay</td>\n",
       "      <td>Graham</td>\n",
       "      <td>6.0</td>\n",
       "    </tr>\n",
       "    <tr>\n",
       "      <th>18</th>\n",
       "      <td>Rick</td>\n",
       "      <td>Perry</td>\n",
       "      <td>6.5</td>\n",
       "    </tr>\n",
       "    <tr>\n",
       "      <th>19</th>\n",
       "      <td>Marco</td>\n",
       "      <td>Rubio</td>\n",
       "      <td>6.8</td>\n",
       "    </tr>\n",
       "    <tr>\n",
       "      <th>20</th>\n",
       "      <td>Scott</td>\n",
       "      <td>Walker</td>\n",
       "      <td>6.8</td>\n",
       "    </tr>\n",
       "    <tr>\n",
       "      <th>21</th>\n",
       "      <td>Bobby</td>\n",
       "      <td>Jindal</td>\n",
       "      <td>7.2</td>\n",
       "    </tr>\n",
       "    <tr>\n",
       "      <th>22</th>\n",
       "      <td>Ted</td>\n",
       "      <td>Cruz</td>\n",
       "      <td>8.0</td>\n",
       "    </tr>\n",
       "    <tr>\n",
       "      <th>23</th>\n",
       "      <td>Rick</td>\n",
       "      <td>Santorum</td>\n",
       "      <td>8.2</td>\n",
       "    </tr>\n",
       "  </tbody>\n",
       "</table>\n",
       "</div>"
      ],
      "text/plain": [
       "   firstname  lastname  rating\n",
       "0       Jill     Stein   -10.0\n",
       "1     Bernie   Sanders    -8.5\n",
       "2    Hillary   Clinton    -6.8\n",
       "3    Lincoln    Chafee    -4.8\n",
       "4     Martin    Malley    -4.5\n",
       "5        Jim      Webb    -3.2\n",
       "6       Gary   Johnson     1.5\n",
       "7     George    Pataki     2.0\n",
       "8       Rand      Paul     2.2\n",
       "9      Chris  Christie     2.5\n",
       "10       Jim   Gilmore     4.0\n",
       "11    Donald     Trump     4.0\n",
       "12       Jeb      Bush     4.8\n",
       "13     Carly   Fiorina     4.8\n",
       "14      Mike  Huckabee     5.0\n",
       "15      John    Kasich     5.0\n",
       "16       Ben    Carson     5.8\n",
       "17   Lindsay    Graham     6.0\n",
       "18      Rick     Perry     6.5\n",
       "19     Marco     Rubio     6.8\n",
       "20     Scott    Walker     6.8\n",
       "21     Bobby    Jindal     7.2\n",
       "22       Ted      Cruz     8.0\n",
       "23      Rick  Santorum     8.2"
      ]
     },
     "execution_count": 62,
     "metadata": {},
     "output_type": "execute_result"
    }
   ],
   "source": [
    "spectrum"
   ]
  },
  {
   "cell_type": "code",
   "execution_count": 66,
   "metadata": {
    "collapsed": false
   },
   "outputs": [
    {
     "data": {
      "text/plain": [
       "True"
      ]
     },
     "execution_count": 66,
     "metadata": {},
     "output_type": "execute_result"
    }
   ],
   "source": [
    "'clinton' in spectrum['lastname'].map(lower2).values"
   ]
  },
  {
   "cell_type": "code",
   "execution_count": 79,
   "metadata": {
    "collapsed": false
   },
   "outputs": [
    {
     "data": {
      "text/html": [
       "<div>\n",
       "<table border=\"1\" class=\"dataframe\">\n",
       "  <thead>\n",
       "    <tr style=\"text-align: right;\">\n",
       "      <th></th>\n",
       "      <th>Candidate</th>\n",
       "      <th>Statement</th>\n",
       "      <th>Label</th>\n",
       "      <th>Rating</th>\n",
       "    </tr>\n",
       "  </thead>\n",
       "  <tbody>\n",
       "    <tr>\n",
       "      <th>0</th>\n",
       "      <td>CLINTON</td>\n",
       "      <td>Thank you. I'm running for president to knock...</td>\n",
       "      <td>Dem</td>\n",
       "      <td>-6.8</td>\n",
       "    </tr>\n",
       "    <tr>\n",
       "      <th>1</th>\n",
       "      <td>SANDERS</td>\n",
       "      <td>Well, Gwen and Judy, thank you very much for ...</td>\n",
       "      <td>Dem</td>\n",
       "      <td>-8.5</td>\n",
       "    </tr>\n",
       "    <tr>\n",
       "      <th>2</th>\n",
       "      <td>CLINTON</td>\n",
       "      <td>Well, I'm happy to be here in New Hampshire f...</td>\n",
       "      <td>Dem</td>\n",
       "      <td>-6.8</td>\n",
       "    </tr>\n",
       "    <tr>\n",
       "      <th>3</th>\n",
       "      <td>SANDERS</td>\n",
       "      <td>Rachel, thank you very much.Millions of Ameri...</td>\n",
       "      <td>Dem</td>\n",
       "      <td>-8.5</td>\n",
       "    </tr>\n",
       "    <tr>\n",
       "      <th>4</th>\n",
       "      <td>CLINTON</td>\n",
       "      <td>Well, good evening. And I want to thank the C...</td>\n",
       "      <td>Dem</td>\n",
       "      <td>-6.8</td>\n",
       "    </tr>\n",
       "    <tr>\n",
       "      <th>5</th>\n",
       "      <td>MALLEY</td>\n",
       "      <td>Thank you. My name is Martin O'Malley, I was ...</td>\n",
       "      <td>Dem</td>\n",
       "      <td>-4.5</td>\n",
       "    </tr>\n",
       "    <tr>\n",
       "      <th>6</th>\n",
       "      <td>SANDERS</td>\n",
       "      <td>Thank you. As we honor the extraordinary life...</td>\n",
       "      <td>Dem</td>\n",
       "      <td>-8.5</td>\n",
       "    </tr>\n",
       "    <tr>\n",
       "      <th>7</th>\n",
       "      <td>CLINTON</td>\n",
       "      <td>Well, thank you. And I'm delighted to be here...</td>\n",
       "      <td>Dem</td>\n",
       "      <td>-6.8</td>\n",
       "    </tr>\n",
       "    <tr>\n",
       "      <th>8</th>\n",
       "      <td>MALLEY</td>\n",
       "      <td>Martha, thank you. Tonight we have a differen...</td>\n",
       "      <td>Dem</td>\n",
       "      <td>-4.5</td>\n",
       "    </tr>\n",
       "    <tr>\n",
       "      <th>9</th>\n",
       "      <td>SANDERS</td>\n",
       "      <td>Good evening.I am running for president of th...</td>\n",
       "      <td>Dem</td>\n",
       "      <td>-8.5</td>\n",
       "    </tr>\n",
       "    <tr>\n",
       "      <th>10</th>\n",
       "      <td>CLINTON</td>\n",
       "      <td>Well, our prayers are with the people of Fran...</td>\n",
       "      <td>Dem</td>\n",
       "      <td>-6.8</td>\n",
       "    </tr>\n",
       "    <tr>\n",
       "      <th>11</th>\n",
       "      <td>SANDERS</td>\n",
       "      <td>Well, John, let me concur with you and with a...</td>\n",
       "      <td>Dem</td>\n",
       "      <td>-8.5</td>\n",
       "    </tr>\n",
       "    <tr>\n",
       "      <th>12</th>\n",
       "      <td>MALLEY</td>\n",
       "      <td>My heart, like all of us in this room, John, ...</td>\n",
       "      <td>Dem</td>\n",
       "      <td>-4.5</td>\n",
       "    </tr>\n",
       "    <tr>\n",
       "      <th>13</th>\n",
       "      <td>SANDERS</td>\n",
       "      <td>Anderson, thank you very much. I think most A...</td>\n",
       "      <td>Dem</td>\n",
       "      <td>-8.5</td>\n",
       "    </tr>\n",
       "    <tr>\n",
       "      <th>14</th>\n",
       "      <td>CLINTON</td>\n",
       "      <td>Well, thank you, and thanks to everyone for h...</td>\n",
       "      <td>Dem</td>\n",
       "      <td>-6.8</td>\n",
       "    </tr>\n",
       "    <tr>\n",
       "      <th>15</th>\n",
       "      <td>WEBB</td>\n",
       "      <td>Thank you. You know, people are disgusted wit...</td>\n",
       "      <td>Dem</td>\n",
       "      <td>-3.2</td>\n",
       "    </tr>\n",
       "    <tr>\n",
       "      <th>16</th>\n",
       "      <td>MALLEY</td>\n",
       "      <td>My name is Martin O'Malley, former Mayor of B...</td>\n",
       "      <td>Dem</td>\n",
       "      <td>-4.5</td>\n",
       "    </tr>\n",
       "    <tr>\n",
       "      <th>17</th>\n",
       "      <td>CHAFEE</td>\n",
       "      <td>Thank you, Anderson. Thank you, CNN, and than...</td>\n",
       "      <td>Dem</td>\n",
       "      <td>-4.8</td>\n",
       "    </tr>\n",
       "    <tr>\n",
       "      <th>18</th>\n",
       "      <td>KASICH</td>\n",
       "      <td>You know, this so much about process. It fran...</td>\n",
       "      <td>Rep</td>\n",
       "      <td>5</td>\n",
       "    </tr>\n",
       "    <tr>\n",
       "      <th>19</th>\n",
       "      <td>RUBIO</td>\n",
       "      <td>Yes, you know, Bret, let me say something. Th...</td>\n",
       "      <td>Rep</td>\n",
       "      <td>6.8</td>\n",
       "    </tr>\n",
       "    <tr>\n",
       "      <th>20</th>\n",
       "      <td>TRUMP</td>\n",
       "      <td>Well look, he was a failed candidate, he shou...</td>\n",
       "      <td>Rep</td>\n",
       "      <td>4</td>\n",
       "    </tr>\n",
       "    <tr>\n",
       "      <th>21</th>\n",
       "      <td>CRUZ</td>\n",
       "      <td>Well, Megyn, you know, at the end of the day ...</td>\n",
       "      <td>Rep</td>\n",
       "      <td>8</td>\n",
       "    </tr>\n",
       "    <tr>\n",
       "      <th>22</th>\n",
       "      <td>CARSON</td>\n",
       "      <td>If someone had tried to describe today's Amer...</td>\n",
       "      <td>Rep</td>\n",
       "      <td>5.8</td>\n",
       "    </tr>\n",
       "    <tr>\n",
       "      <th>23</th>\n",
       "      <td>RUBIO</td>\n",
       "      <td>Well, thank you. This election, we have to de...</td>\n",
       "      <td>Rep</td>\n",
       "      <td>6.8</td>\n",
       "    </tr>\n",
       "    <tr>\n",
       "      <th>24</th>\n",
       "      <td>CRUZ</td>\n",
       "      <td>Welcome to Texas. [applause]Here, Texas provi...</td>\n",
       "      <td>Rep</td>\n",
       "      <td>8</td>\n",
       "    </tr>\n",
       "    <tr>\n",
       "      <th>25</th>\n",
       "      <td>KASICH</td>\n",
       "      <td>Well, you know, on the way over here, even ge...</td>\n",
       "      <td>Rep</td>\n",
       "      <td>5</td>\n",
       "    </tr>\n",
       "    <tr>\n",
       "      <th>26</th>\n",
       "      <td>TRUMP</td>\n",
       "      <td>Thank you. My whole theme is make America gre...</td>\n",
       "      <td>Rep</td>\n",
       "      <td>4</td>\n",
       "    </tr>\n",
       "    <tr>\n",
       "      <th>27</th>\n",
       "      <td>CARSON</td>\n",
       "      <td>Well, the current Constitution actually doesn...</td>\n",
       "      <td>Rep</td>\n",
       "      <td>5.8</td>\n",
       "    </tr>\n",
       "    <tr>\n",
       "      <th>28</th>\n",
       "      <td>RUBIO</td>\n",
       "      <td>Well, let me first talk about Justice Scalia....</td>\n",
       "      <td>Rep</td>\n",
       "      <td>6.8</td>\n",
       "    </tr>\n",
       "    <tr>\n",
       "      <th>29</th>\n",
       "      <td>CRUZ</td>\n",
       "      <td>Well, we have 80 years of precedent of not co...</td>\n",
       "      <td>Rep</td>\n",
       "      <td>8</td>\n",
       "    </tr>\n",
       "    <tr>\n",
       "      <th>...</th>\n",
       "      <td>...</td>\n",
       "      <td>...</td>\n",
       "      <td>...</td>\n",
       "      <td>...</td>\n",
       "    </tr>\n",
       "    <tr>\n",
       "      <th>98</th>\n",
       "      <td>WALKER</td>\n",
       "      <td>Well, I'm pro-life, I've always been pro-life...</td>\n",
       "      <td>Rep</td>\n",
       "      <td>6.8</td>\n",
       "    </tr>\n",
       "    <tr>\n",
       "      <th>99</th>\n",
       "      <td>TRUMP</td>\n",
       "      <td>I fully understand.  I fully understand.  I c...</td>\n",
       "      <td>Rep</td>\n",
       "      <td>4</td>\n",
       "    </tr>\n",
       "    <tr>\n",
       "      <th>100</th>\n",
       "      <td>PAUL</td>\n",
       "      <td>This is what's wrong!  I mean, this is what's...</td>\n",
       "      <td>Rep</td>\n",
       "      <td>2.2</td>\n",
       "    </tr>\n",
       "    <tr>\n",
       "      <th>101</th>\n",
       "      <td>BUSH</td>\n",
       "      <td>Absolutely, I do, and I'm gonna run hard, run...</td>\n",
       "      <td>Rep</td>\n",
       "      <td>4.8</td>\n",
       "    </tr>\n",
       "    <tr>\n",
       "      <th>102</th>\n",
       "      <td>SANTORUM</td>\n",
       "      <td>You know, listening to what your network was ...</td>\n",
       "      <td>Rep</td>\n",
       "      <td>8.2</td>\n",
       "    </tr>\n",
       "    <tr>\n",
       "      <th>103</th>\n",
       "      <td>GILMORE</td>\n",
       "      <td>Well, Bill, can I first... Well, first of all...</td>\n",
       "      <td>Rep</td>\n",
       "      <td>4</td>\n",
       "    </tr>\n",
       "    <tr>\n",
       "      <th>104</th>\n",
       "      <td>FIORINA</td>\n",
       "      <td>You know, when I started my campaign on May 4...</td>\n",
       "      <td>Rep</td>\n",
       "      <td>4.8</td>\n",
       "    </tr>\n",
       "    <tr>\n",
       "      <th>105</th>\n",
       "      <td>HUCKABEE</td>\n",
       "      <td>I don't think it's that the message isn't wor...</td>\n",
       "      <td>Rep</td>\n",
       "      <td>5</td>\n",
       "    </tr>\n",
       "    <tr>\n",
       "      <th>106</th>\n",
       "      <td>FIORINA</td>\n",
       "      <td>Well, thank you. Good evening. If I may begin...</td>\n",
       "      <td>Rep</td>\n",
       "      <td>4.8</td>\n",
       "    </tr>\n",
       "    <tr>\n",
       "      <th>107</th>\n",
       "      <td>SANTORUM</td>\n",
       "      <td>Well, all he has to do is listen to the Democ...</td>\n",
       "      <td>Rep</td>\n",
       "      <td>8.2</td>\n",
       "    </tr>\n",
       "    <tr>\n",
       "      <th>108</th>\n",
       "      <td>HUCKABEE</td>\n",
       "      <td>I wish I saw the country in the same place th...</td>\n",
       "      <td>Rep</td>\n",
       "      <td>5</td>\n",
       "    </tr>\n",
       "    <tr>\n",
       "      <th>109</th>\n",
       "      <td>JINDAL</td>\n",
       "      <td>...Thank you.  A couple of things.In Louisian...</td>\n",
       "      <td>Rep</td>\n",
       "      <td>7.2</td>\n",
       "    </tr>\n",
       "    <tr>\n",
       "      <th>110</th>\n",
       "      <td>SANTORUM</td>\n",
       "      <td>The middle of America is hollowing out. All y...</td>\n",
       "      <td>Rep</td>\n",
       "      <td>8.2</td>\n",
       "    </tr>\n",
       "    <tr>\n",
       "      <th>111</th>\n",
       "      <td>HUCKABEE</td>\n",
       "      <td>Well, first of all, Trish, I don't know why w...</td>\n",
       "      <td>Rep</td>\n",
       "      <td>5</td>\n",
       "    </tr>\n",
       "    <tr>\n",
       "      <th>112</th>\n",
       "      <td>CHRISTIE</td>\n",
       "      <td>Well, first I want to share a story with you ...</td>\n",
       "      <td>Rep</td>\n",
       "      <td>2.5</td>\n",
       "    </tr>\n",
       "    <tr>\n",
       "      <th>113</th>\n",
       "      <td>JINDAL</td>\n",
       "      <td>I think the reason voters are so frustrated i...</td>\n",
       "      <td>Rep</td>\n",
       "      <td>7.2</td>\n",
       "    </tr>\n",
       "    <tr>\n",
       "      <th>114</th>\n",
       "      <td>SANTORUM</td>\n",
       "      <td>Yes, I think it's one thing to shrink the siz...</td>\n",
       "      <td>Rep</td>\n",
       "      <td>8.2</td>\n",
       "    </tr>\n",
       "    <tr>\n",
       "      <th>115</th>\n",
       "      <td>PATAKI</td>\n",
       "      <td>We need an outsider to run our party and to w...</td>\n",
       "      <td>Rep</td>\n",
       "      <td>2</td>\n",
       "    </tr>\n",
       "    <tr>\n",
       "      <th>116</th>\n",
       "      <td>GRAHAM</td>\n",
       "      <td>Well, number one, thank you for having me her...</td>\n",
       "      <td>Rep</td>\n",
       "      <td>6</td>\n",
       "    </tr>\n",
       "    <tr>\n",
       "      <th>117</th>\n",
       "      <td>PATAKI</td>\n",
       "      <td>Thank you, Jake. Hi, I'm George Pataki, and I...</td>\n",
       "      <td>Rep</td>\n",
       "      <td>2</td>\n",
       "    </tr>\n",
       "    <tr>\n",
       "      <th>118</th>\n",
       "      <td>SANTORUM</td>\n",
       "      <td>Hi, I'm Rick Santorum. Some of you may know m...</td>\n",
       "      <td>Rep</td>\n",
       "      <td>8.2</td>\n",
       "    </tr>\n",
       "    <tr>\n",
       "      <th>119</th>\n",
       "      <td>JINDAL</td>\n",
       "      <td>Hi, I'm Bobby Jindal. Now, look, I don't have...</td>\n",
       "      <td>Rep</td>\n",
       "      <td>7.2</td>\n",
       "    </tr>\n",
       "    <tr>\n",
       "      <th>120</th>\n",
       "      <td>GRAHAM</td>\n",
       "      <td>One, thanks, CNN, for having people at this d...</td>\n",
       "      <td>Rep</td>\n",
       "      <td>6</td>\n",
       "    </tr>\n",
       "    <tr>\n",
       "      <th>121</th>\n",
       "      <td>JINDAL</td>\n",
       "      <td>Well, first of all, thank you all for having ...</td>\n",
       "      <td>Rep</td>\n",
       "      <td>7.2</td>\n",
       "    </tr>\n",
       "    <tr>\n",
       "      <th>122</th>\n",
       "      <td>PATAKI</td>\n",
       "      <td>I think he means somebody who hasn't been a c...</td>\n",
       "      <td>Rep</td>\n",
       "      <td>2</td>\n",
       "    </tr>\n",
       "    <tr>\n",
       "      <th>123</th>\n",
       "      <td>SANTORUM</td>\n",
       "      <td>I would say the message that got us the win i...</td>\n",
       "      <td>Rep</td>\n",
       "      <td>8.2</td>\n",
       "    </tr>\n",
       "    <tr>\n",
       "      <th>124</th>\n",
       "      <td>GRAHAM</td>\n",
       "      <td>You can trust me to do the followingWhen it c...</td>\n",
       "      <td>Rep</td>\n",
       "      <td>6</td>\n",
       "    </tr>\n",
       "    <tr>\n",
       "      <th>125</th>\n",
       "      <td>GILMORE</td>\n",
       "      <td>I think the times are different now. I think ...</td>\n",
       "      <td>Rep</td>\n",
       "      <td>4</td>\n",
       "    </tr>\n",
       "    <tr>\n",
       "      <th>126</th>\n",
       "      <td>FIORINA</td>\n",
       "      <td>Well, I would begin by reminding people that ...</td>\n",
       "      <td>Rep</td>\n",
       "      <td>4.8</td>\n",
       "    </tr>\n",
       "    <tr>\n",
       "      <th>127</th>\n",
       "      <td>PERRY</td>\n",
       "      <td>It's good to be with you.  After those four y...</td>\n",
       "      <td>Rep</td>\n",
       "      <td>6.5</td>\n",
       "    </tr>\n",
       "  </tbody>\n",
       "</table>\n",
       "<p>128 rows × 4 columns</p>\n",
       "</div>"
      ],
      "text/plain": [
       "    Candidate                                          Statement Label Rating\n",
       "0     CLINTON   Thank you. I'm running for president to knock...   Dem   -6.8\n",
       "1     SANDERS   Well, Gwen and Judy, thank you very much for ...   Dem   -8.5\n",
       "2     CLINTON   Well, I'm happy to be here in New Hampshire f...   Dem   -6.8\n",
       "3     SANDERS   Rachel, thank you very much.Millions of Ameri...   Dem   -8.5\n",
       "4     CLINTON   Well, good evening. And I want to thank the C...   Dem   -6.8\n",
       "5      MALLEY   Thank you. My name is Martin O'Malley, I was ...   Dem   -4.5\n",
       "6     SANDERS   Thank you. As we honor the extraordinary life...   Dem   -8.5\n",
       "7     CLINTON   Well, thank you. And I'm delighted to be here...   Dem   -6.8\n",
       "8      MALLEY   Martha, thank you. Tonight we have a differen...   Dem   -4.5\n",
       "9     SANDERS   Good evening.I am running for president of th...   Dem   -8.5\n",
       "10    CLINTON   Well, our prayers are with the people of Fran...   Dem   -6.8\n",
       "11    SANDERS   Well, John, let me concur with you and with a...   Dem   -8.5\n",
       "12     MALLEY   My heart, like all of us in this room, John, ...   Dem   -4.5\n",
       "13    SANDERS   Anderson, thank you very much. I think most A...   Dem   -8.5\n",
       "14    CLINTON   Well, thank you, and thanks to everyone for h...   Dem   -6.8\n",
       "15       WEBB   Thank you. You know, people are disgusted wit...   Dem   -3.2\n",
       "16     MALLEY   My name is Martin O'Malley, former Mayor of B...   Dem   -4.5\n",
       "17     CHAFEE   Thank you, Anderson. Thank you, CNN, and than...   Dem   -4.8\n",
       "18     KASICH   You know, this so much about process. It fran...   Rep      5\n",
       "19      RUBIO   Yes, you know, Bret, let me say something. Th...   Rep    6.8\n",
       "20      TRUMP   Well look, he was a failed candidate, he shou...   Rep      4\n",
       "21       CRUZ   Well, Megyn, you know, at the end of the day ...   Rep      8\n",
       "22     CARSON   If someone had tried to describe today's Amer...   Rep    5.8\n",
       "23      RUBIO   Well, thank you. This election, we have to de...   Rep    6.8\n",
       "24       CRUZ   Welcome to Texas. [applause]Here, Texas provi...   Rep      8\n",
       "25     KASICH   Well, you know, on the way over here, even ge...   Rep      5\n",
       "26      TRUMP   Thank you. My whole theme is make America gre...   Rep      4\n",
       "27     CARSON   Well, the current Constitution actually doesn...   Rep    5.8\n",
       "28      RUBIO   Well, let me first talk about Justice Scalia....   Rep    6.8\n",
       "29       CRUZ   Well, we have 80 years of precedent of not co...   Rep      8\n",
       "..        ...                                                ...   ...    ...\n",
       "98     WALKER   Well, I'm pro-life, I've always been pro-life...   Rep    6.8\n",
       "99      TRUMP   I fully understand.  I fully understand.  I c...   Rep      4\n",
       "100      PAUL   This is what's wrong!  I mean, this is what's...   Rep    2.2\n",
       "101      BUSH   Absolutely, I do, and I'm gonna run hard, run...   Rep    4.8\n",
       "102  SANTORUM   You know, listening to what your network was ...   Rep    8.2\n",
       "103   GILMORE   Well, Bill, can I first... Well, first of all...   Rep      4\n",
       "104   FIORINA   You know, when I started my campaign on May 4...   Rep    4.8\n",
       "105  HUCKABEE   I don't think it's that the message isn't wor...   Rep      5\n",
       "106   FIORINA   Well, thank you. Good evening. If I may begin...   Rep    4.8\n",
       "107  SANTORUM   Well, all he has to do is listen to the Democ...   Rep    8.2\n",
       "108  HUCKABEE   I wish I saw the country in the same place th...   Rep      5\n",
       "109    JINDAL   ...Thank you.  A couple of things.In Louisian...   Rep    7.2\n",
       "110  SANTORUM   The middle of America is hollowing out. All y...   Rep    8.2\n",
       "111  HUCKABEE   Well, first of all, Trish, I don't know why w...   Rep      5\n",
       "112  CHRISTIE   Well, first I want to share a story with you ...   Rep    2.5\n",
       "113    JINDAL   I think the reason voters are so frustrated i...   Rep    7.2\n",
       "114  SANTORUM   Yes, I think it's one thing to shrink the siz...   Rep    8.2\n",
       "115    PATAKI   We need an outsider to run our party and to w...   Rep      2\n",
       "116    GRAHAM   Well, number one, thank you for having me her...   Rep      6\n",
       "117    PATAKI   Thank you, Jake. Hi, I'm George Pataki, and I...   Rep      2\n",
       "118  SANTORUM   Hi, I'm Rick Santorum. Some of you may know m...   Rep    8.2\n",
       "119    JINDAL   Hi, I'm Bobby Jindal. Now, look, I don't have...   Rep    7.2\n",
       "120    GRAHAM   One, thanks, CNN, for having people at this d...   Rep      6\n",
       "121    JINDAL   Well, first of all, thank you all for having ...   Rep    7.2\n",
       "122    PATAKI   I think he means somebody who hasn't been a c...   Rep      2\n",
       "123  SANTORUM   I would say the message that got us the win i...   Rep    8.2\n",
       "124    GRAHAM   You can trust me to do the followingWhen it c...   Rep      6\n",
       "125   GILMORE   I think the times are different now. I think ...   Rep      4\n",
       "126   FIORINA   Well, I would begin by reminding people that ...   Rep    4.8\n",
       "127     PERRY   It's good to be with you.  After those four y...   Rep    6.5\n",
       "\n",
       "[128 rows x 4 columns]"
      ]
     },
     "execution_count": 79,
     "metadata": {},
     "output_type": "execute_result"
    }
   ],
   "source": [
    "df"
   ]
  },
  {
   "cell_type": "code",
   "execution_count": 77,
   "metadata": {
    "collapsed": false
   },
   "outputs": [
    {
     "data": {
      "text/plain": [
       "-6.7999999999999998"
      ]
     },
     "execution_count": 77,
     "metadata": {},
     "output_type": "execute_result"
    }
   ],
   "source": [
    "spectrum[spectrum['lastname'].map(lower2) == 'clinton']['rating'].values[0]"
   ]
  },
  {
   "cell_type": "code",
   "execution_count": null,
   "metadata": {
    "collapsed": true
   },
   "outputs": [],
   "source": []
  }
 ],
 "metadata": {
  "kernelspec": {
   "display_name": "Python 2",
   "language": "python",
   "name": "python2"
  },
  "language_info": {
   "codemirror_mode": {
    "name": "ipython",
    "version": 2
   },
   "file_extension": ".py",
   "mimetype": "text/x-python",
   "name": "python",
   "nbconvert_exporter": "python",
   "pygments_lexer": "ipython2",
   "version": "2.7.11"
  }
 },
 "nbformat": 4,
 "nbformat_minor": 0
}
