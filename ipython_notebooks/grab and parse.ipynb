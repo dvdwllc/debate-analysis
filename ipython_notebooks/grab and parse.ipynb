{
 "cells": [
  {
   "cell_type": "code",
   "execution_count": 1,
   "metadata": {
    "collapsed": false
   },
   "outputs": [],
   "source": [
    "from bs4 import BeautifulSoup\n",
    "import requests\n",
    "import bs4\n",
    "import re"
   ]
  },
  {
   "cell_type": "code",
   "execution_count": 2,
   "metadata": {
    "collapsed": false
   },
   "outputs": [
    {
     "name": "stderr",
     "output_type": "stream",
     "text": [
      "/Users/wallacdc/anaconda/lib/python2.7/site-packages/bs4/__init__.py:166: UserWarning: No parser was explicitly specified, so I'm using the best available HTML parser for this system (\"lxml\"). This usually isn't a problem, but if you run this code on another system, or in a different virtual environment, it may use a different parser and behave differently.\n",
      "\n",
      "To get rid of this warning, change this:\n",
      "\n",
      " BeautifulSoup([your markup])\n",
      "\n",
      "to this:\n",
      "\n",
      " BeautifulSoup([your markup], \"lxml\")\n",
      "\n",
      "  markup_type=markup_type))\n"
     ]
    }
   ],
   "source": [
    "# change this to the actual url and use requests to pull the page\n",
    "index = \"http://www.presidency.ucsb.edu/debates.php\"\n",
    "response = requests.get(index)\n",
    "\n",
    "# beautiful soup object for html parsing\n",
    "soup = BeautifulSoup(response.text.encode('utf-8'))\n",
    "\n",
    "# find all links to debate transcripts\n",
    "debate_links = soup.find_all('td', attrs={'class':'doctext'})\n",
    "debate_dates = soup.find_all('td', attrs={'class':'docdate'})"
   ]
  },
  {
   "cell_type": "code",
   "execution_count": 11,
   "metadata": {
    "collapsed": false
   },
   "outputs": [],
   "source": [
    "#debate_links"
   ]
  },
  {
   "cell_type": "code",
   "execution_count": 64,
   "metadata": {
    "collapsed": false
   },
   "outputs": [],
   "source": [
    "#transcript_urls"
   ]
  },
  {
   "cell_type": "code",
   "execution_count": 4,
   "metadata": {
    "collapsed": false
   },
   "outputs": [
    {
     "name": "stdout",
     "output_type": "stream",
     "text": [
      "got 134 urls, 13 listings with no link.\n"
     ]
    }
   ],
   "source": [
    "# get urls for each transcript\n",
    "transcript_urls = []\n",
    "n_sans_link = 0\n",
    "for i in range(len(debate_links)):\n",
    "    try:\n",
    "        transcript_urls.append(\n",
    "            (debate_links[i].select('a')[0].get('href'), \n",
    "             debate_dates[i].text.split(', ')[1])\n",
    "        )\n",
    "    except IndexError:\n",
    "        n_sans_link += 1\n",
    "        \n",
    "print 'got %i urls, %i listings with no link.' % (len(transcript_urls), n_sans_link)"
   ]
  },
  {
   "cell_type": "code",
   "execution_count": 12,
   "metadata": {
    "collapsed": false
   },
   "outputs": [],
   "source": [
    "#transcript_urls"
   ]
  },
  {
   "cell_type": "code",
   "execution_count": 8,
   "metadata": {
    "collapsed": false,
    "scrolled": true
   },
   "outputs": [],
   "source": [
    "#response2.text[89135:]"
   ]
  },
  {
   "cell_type": "code",
   "execution_count": 61,
   "metadata": {
    "collapsed": false
   },
   "outputs": [],
   "source": [
    "response1 = requests.get(transcript_urls[0][0])\n",
    "response2 = requests.get(transcript_urls[-5][0])"
   ]
  },
  {
   "cell_type": "code",
   "execution_count": 68,
   "metadata": {
    "collapsed": false
   },
   "outputs": [],
   "source": [
    "# html starts after a fat block of javascript and XML.\n",
    "# read the page after that point\n",
    "\n",
    "# new pages have the participants names in bold\n",
    "start1 = response1.text.index('<span class=\"displaytext\">')\n",
    "end1 = response1.text.index('<hr noshade=\"noshade\" size=\"1\">')\n",
    "soup1 = BeautifulSoup(response1.text.encode('utf-8'))\n",
    "\n",
    "# old pages do not bold the participants names\n",
    "start2 = response2.text.index('<span class=\"displaytext\">')\n",
    "end2 = response2.text.index('<hr noshade=\"noshade\" size=\"1\">')\n",
    "soup2 = BeautifulSoup(response2.text.encode('utf-8'))"
   ]
  },
  {
   "cell_type": "code",
   "execution_count": 75,
   "metadata": {
    "collapsed": false
   },
   "outputs": [
    {
     "data": {
      "text/plain": [
       "'http://www.presidency.ucsb.edu/ws/index.php?pid=62249'"
      ]
     },
     "execution_count": 75,
     "metadata": {},
     "output_type": "execute_result"
    }
   ],
   "source": [
    "transcript_urls[-5][0]"
   ]
  },
  {
   "cell_type": "code",
   "execution_count": 13,
   "metadata": {
    "collapsed": false
   },
   "outputs": [],
   "source": [
    "#soup2"
   ]
  },
  {
   "cell_type": "code",
   "execution_count": 25,
   "metadata": {
    "collapsed": false
   },
   "outputs": [
    {
     "data": {
      "text/plain": [
       "False"
      ]
     },
     "execution_count": 25,
     "metadata": {},
     "output_type": "execute_result"
    }
   ],
   "source": [
    "'Republican' in soup1.title.text"
   ]
  },
  {
   "cell_type": "code",
   "execution_count": 6,
   "metadata": {
    "collapsed": false
   },
   "outputs": [],
   "source": [
    "def parse_speakers_and_quotes(page, year):\n",
    "    \"\"\"\n",
    "    Extracts names of every person involved with the debate and \n",
    "    collects all of their quotes in a list.\n",
    "    \n",
    "    :param page: html page\n",
    "    \n",
    "    :returns dict: {speaker name: [quotes]}\n",
    "    \"\"\"\n",
    "    # fixes a BeautifulSoup problem that results in improper parsing\n",
    "    page_soup = BeautifulSoup(page.text.encode('utf-8'))\n",
    "    \n",
    "    if 'Republican' in page_soup.title.text:\n",
    "        party = 'R'\n",
    "    elif 'Democratic' in page_soup.title.text:\n",
    "        party = 'D'\n",
    "    else:\n",
    "        return 0 # only want primary debates\n",
    "    \n",
    "    try:\n",
    "        participants = page_soup.text.lower().split('participant')[1].split('moderator')[0].strip('; ').lower()\n",
    "    except IndexError:\n",
    "        return 0 # reject pages that don't list participants\n",
    "        \n",
    "    speaker_dict = dict()\n",
    "    prev_speaker = ''\n",
    "    for i in page_soup.find_all('p'):\n",
    "\n",
    "        try: # search for name of person speaking\n",
    "            curr_speaker = re.findall('[A-Z]+:', i.text)[0].strip(':')\n",
    "            prev_speaker = curr_speaker\n",
    "            quote = re.split(':', i.text)[1]\n",
    "\n",
    "        except IndexError: # if name not in line\n",
    "            quote = i.text\n",
    "            \n",
    "        if prev_speaker.lower() in participants:\n",
    "            #pass # only want statements from candidates\n",
    "        \n",
    "            if party+'_'+prev_speaker+'_'+year not in speaker_dict:\n",
    "                # add speaker to speaker_dict with list of quotes as value\n",
    "                speaker_dict[party+'_'+prev_speaker+'_'+year] = [quote]\n",
    "            else:\n",
    "                # append quote to speaker's list of quotes\n",
    "                speaker_dict[party+'_'+prev_speaker+'_'+year].append(quote)\n",
    "            \n",
    "    return speaker_dict"
   ]
  },
  {
   "cell_type": "code",
   "execution_count": 7,
   "metadata": {
    "collapsed": false
   },
   "outputs": [],
   "source": [
    "from requests_futures.sessions import FuturesSession\n",
    "\n",
    "start = 0\n",
    "end = len(transcript_urls)\n",
    "#end = 20\n",
    "\n",
    "session = FuturesSession(max_workers=5)\n",
    "futures = [session.get(url[0]) for url in transcript_urls[start:end]]\n",
    "\n",
    "dates = [url[1] for url in transcript_urls[start:end]]\n",
    "results = zip(futures, dates)\n",
    "\n",
    "debate_transcripts = [parse_speakers_and_quotes(future.result(), date) for future, date in results]"
   ]
  },
  {
   "cell_type": "code",
   "execution_count": 8,
   "metadata": {
    "collapsed": false
   },
   "outputs": [],
   "source": [
    "import dill"
   ]
  },
  {
   "cell_type": "code",
   "execution_count": 9,
   "metadata": {
    "collapsed": true
   },
   "outputs": [],
   "source": [
    "dill.dump(debate_transcripts, open('../dills/debate_transcripts_list.dill', 'wb'))"
   ]
  },
  {
   "cell_type": "code",
   "execution_count": 7,
   "metadata": {
    "collapsed": false
   },
   "outputs": [],
   "source": [
    "#debate_transcripts"
   ]
  },
  {
   "cell_type": "code",
   "execution_count": 10,
   "metadata": {
    "collapsed": false
   },
   "outputs": [
    {
     "data": {
      "text/plain": [
       "[[u'D_CLINTON_2016', u'D_SANDERS_2016'],\n",
       " [u'D_CLINTON_2016', u'D_SANDERS_2016'],\n",
       " [u'D_CLINTON_2016', u'D_SANDERS_2016'],\n",
       " [u'D_CLINTON_2016', u'D_SANDERS_2016'],\n",
       " [u'D_MALLEY_2016', u'D_CLINTON_2016', u'D_SANDERS_2016'],\n",
       " [u'D_MALLEY_2016', u'D_CLINTON_2016', u'D_SANDERS_2016'],\n",
       " [u'D_MALLEY_2015', u'D_SANDERS_2015', u'D_CLINTON_2015'],\n",
       " [u'D_SANDERS_2015',\n",
       "  u'D_CLINTON_2015',\n",
       "  u'D_WEBB_2015',\n",
       "  u'D_MALLEY_2015',\n",
       "  u'D_CHAFEE_2015',\n",
       "  u'D_INTON_2015'],\n",
       " [u'R_KASICH_2015', u'R_CRUZ_2015', u'R_TRUMP_2015', u'R_RUBIO_2015'],\n",
       " [u'R_CARSON_2016',\n",
       "  u'R_S_2016',\n",
       "  u'R_CRUZ_2016',\n",
       "  u'R_KASICH_2016',\n",
       "  u'R_TRUMP_2016',\n",
       "  u'R_RUBIO_2016'],\n",
       " [u'R_CARSON_2016',\n",
       "  u'R_RUBIO_2016',\n",
       "  u'R_CRUZ_2016',\n",
       "  u'R_KASICH_2016',\n",
       "  u'R_TRUMP_2016',\n",
       "  u'R_BUSH_2016'],\n",
       " [u'R_CARSON_2016',\n",
       "  u'R_RUBIO_2016',\n",
       "  u'R_CRUZ_2016',\n",
       "  u'R_CHRISTIE_2016',\n",
       "  u'R_KASICH_2016',\n",
       "  u'R_TRUMP_2016',\n",
       "  u'R_BUSH_2016'],\n",
       " [u'R_CARSON_2016',\n",
       "  u'R_RUBIO_2016',\n",
       "  u'R_CRUZ_2016',\n",
       "  u'R_CHRISTIE_2016',\n",
       "  u'R_KASICH_2016',\n",
       "  u'R_BUSH_2016',\n",
       "  u'R_PAUL_2016'],\n",
       " [u'R_CARSON_2016',\n",
       "  u'R_RUBIO_2016',\n",
       "  u'R_CRUZ_2016',\n",
       "  u'R_CHRISTIE_2016',\n",
       "  u'R_KASICH_2016',\n",
       "  u'R_TRUMP_2016',\n",
       "  u'R_BUSH_2016'],\n",
       " [u'R_CARSON_2016',\n",
       "  u'R_RUBIO_2016',\n",
       "  u'R_CRUZ_2016',\n",
       "  u'R_CHRISTIE_2016',\n",
       "  u'R_KASICH_2016',\n",
       "  u'R_PAUL_2016',\n",
       "  u'R_FIORINA_2016',\n",
       "  u'R_BUSH_2016',\n",
       "  u'R_TRUMP_2016'],\n",
       " [u'R_CARSON_2016',\n",
       "  u'R_RUBIO_2016',\n",
       "  u'R_CRUZ_2016',\n",
       "  u'R_KASICH_2016',\n",
       "  u'R_TRUMP_2016',\n",
       "  u'R_FIORINA_2016',\n",
       "  u'R_PAUL_2016',\n",
       "  u'R_BUSH_2016'],\n",
       " [u'R_CARSON_2015',\n",
       "  u'R_CHRISTIE_2015',\n",
       "  u'R_CRUZ_2015',\n",
       "  u'R_RUBIO_2015',\n",
       "  u'R_KASICH_2015',\n",
       "  u'R_PAUL_2015',\n",
       "  u'R_HUCKABEE_2015',\n",
       "  u'R_TRUMP_2015',\n",
       "  u'R_FIORINA_2015',\n",
       "  u'R_BUSH_2015'],\n",
       " [u'R_CARSON_2015',\n",
       "  u'R_CHRISTIE_2015',\n",
       "  u'R_CRUZ_2015',\n",
       "  u'R_RUBIO_2015',\n",
       "  u'R_KASICH_2015',\n",
       "  u'R_HUCKABEE_2015',\n",
       "  u'R_WALKER_2015',\n",
       "  u'R_TRUMP_2015',\n",
       "  u'R_FIORINA_2015',\n",
       "  u'R_PAUL_2015',\n",
       "  u'R_BUSH_2015'],\n",
       " [u'R_CARSON_2015',\n",
       "  u'R_CHRISTIE_2015',\n",
       "  u'R_CRUZ_2015',\n",
       "  u'R_RUBIO_2015',\n",
       "  u'R_KASICH_2015',\n",
       "  u'R_PAUL_2015',\n",
       "  u'R_WALKER_2015',\n",
       "  u'R_TRUMP_2015',\n",
       "  u'R_HUCKABEE_2015',\n",
       "  u'R_BUSH_2015'],\n",
       " [u'R_SANTORUM_2015',\n",
       "  u'R_GILMORE_2015',\n",
       "  u'R_FIORINA_2015',\n",
       "  u'R_HUCKABEE_2015'],\n",
       " [u'R_FIORINA_2015', u'R_SANTORUM_2015', u'R_HUCKABEE_2015'],\n",
       " [u'R_JINDAL_2016',\n",
       "  u'R_SANTORUM_2016',\n",
       "  u'R_HUCKABEE_2016',\n",
       "  u'R_CHRISTIE_2016'],\n",
       " [u'R_JINDAL_2016', u'R_SANTORUM_2016', u'R_PATAKI_2016', u'R_GRAHAM_2016'],\n",
       " [u'R_PATAKI_2015', u'R_SANTORUM_2015', u'R_JINDAL_2015', u'R_GRAHAM_2015'],\n",
       " [u'R_JINDAL_2015',\n",
       "  u'R_PATAKI_2015',\n",
       "  u'R_SANTORUM_2015',\n",
       "  u'R_GRAHAM_2015',\n",
       "  u'R_GILMORE_2015',\n",
       "  u'R_FIORINA_2015',\n",
       "  u'R_PERRY_2015'],\n",
       " [u'R_ROMNEY_2012', u'R_GINGRICH_2012', u'R_PAUL_2012', u'R_SANTORUM_2012'],\n",
       " [u'R_ROMNEY_2012', u'R_GINGRICH_2012', u'R_PAUL_2012', u'R_SANTORUM_2012'],\n",
       " [u'R_ROMNEY_2012', u'R_GINGRICH_2012', u'R_PAUL_2012', u'R_SANTORUM_2012'],\n",
       " [u'R_ROMNEY_2012',\n",
       "  u'R_GINGRICH_2012',\n",
       "  u'R_PAUL_2012',\n",
       "  u'R_PERRY_2012',\n",
       "  u'R_SANTORUM_2012'],\n",
       " [u'R_GINGRICH_2012',\n",
       "  u'R_ROMNEY_2012',\n",
       "  u'R_SANTORUM_2012',\n",
       "  u'R_PAUL_2012',\n",
       "  u'R_PERRY_2012',\n",
       "  u'R_HUNTSMAN_2012'],\n",
       " [u'R_GINGRICH_2012',\n",
       "  u'R_ROMNEY_2012',\n",
       "  u'R_SANTORUM_2012',\n",
       "  u'R_PAUL_2012',\n",
       "  u'R_PERRY_2012',\n",
       "  u'R_HUNTSMAN_2012'],\n",
       " [u'R_BACHMANN_2012',\n",
       "  u'R_GINGRICH_2012',\n",
       "  u'R_ROMNEY_2012',\n",
       "  u'R_SANTORUM_2012',\n",
       "  u'R_PAUL_2012',\n",
       "  u'R_PERRY_2012',\n",
       "  u'R_HUNTSMAN_2012'],\n",
       " [u'R_BACHMANN_2012',\n",
       "  u'R_GINGRICH_2012',\n",
       "  u'R_ROMNEY_2012',\n",
       "  u'R_SANTORUM_2012',\n",
       "  u'R_PAUL_2012',\n",
       "  u'R_PERRY_2012'],\n",
       " [u'R_BACHMANN_2012',\n",
       "  u'R_GINGRICH_2012',\n",
       "  u'R_ROMNEY_2012',\n",
       "  u'R_CAIN_2012',\n",
       "  u'R_SANTORUM_2012',\n",
       "  u'R_PAUL_2012',\n",
       "  u'R_PERRY_2012',\n",
       "  u'R_HUNTSMAN_2012'],\n",
       " [u'R_BACHMANN_2012',\n",
       "  u'R_GINGRICH_2012',\n",
       "  u'R_ROMNEY_2012',\n",
       "  u'R_CAIN_2012',\n",
       "  u'R_SANTORUM_2012',\n",
       "  u'R_PAUL_2012',\n",
       "  u'R_PERRY_2012',\n",
       "  u'R_HUNTSMAN_2012'],\n",
       " [u'R_GINGRICH_2011',\n",
       "  u'R_BACHMANN_2011',\n",
       "  u'R_CAIN_2011',\n",
       "  u'R_ROMNEY_2011',\n",
       "  u'R_SANTORUM_2011',\n",
       "  u'R_PERRY_2011',\n",
       "  u'R_PAUL_2011',\n",
       "  u'R_HUNTSMAN_2011'],\n",
       " [u'R_GINGRICH_2011',\n",
       "  u'R_BACHMANN_2011',\n",
       "  u'R_CAIN_2011',\n",
       "  u'R_ROMNEY_2011',\n",
       "  u'R_SANTORUM_2011',\n",
       "  u'R_PERRY_2011',\n",
       "  u'R_PAUL_2011'],\n",
       " [u'R_GINGRICH_2011',\n",
       "  u'R_BACHMANN_2011',\n",
       "  u'R_CAIN_2011',\n",
       "  u'R_ROMNEY_2011',\n",
       "  u'R_SANTORUM_2011',\n",
       "  u'R_PERRY_2011',\n",
       "  u'R_PAUL_2011',\n",
       "  u'R_HUNTSMAN_2011'],\n",
       " [u'R_GINGRICH_2011',\n",
       "  u'R_BACHMANN_2011',\n",
       "  u'R_JOHNSON_2011',\n",
       "  u'R_CAIN_2011',\n",
       "  u'R_ROMNEY_2011',\n",
       "  u'R_SANTORUM_2011',\n",
       "  u'R_PERRY_2011',\n",
       "  u'R_PAUL_2011',\n",
       "  u'R_HUNTSMAN_2011'],\n",
       " [u'R_GINGRICH_2011',\n",
       "  u'R_BACHMANN_2011',\n",
       "  u'R_CAIN_2011',\n",
       "  u'R_ROMNEY_2011',\n",
       "  u'R_SANTORUM_2011',\n",
       "  u'R_PERRY_2011',\n",
       "  u'R_PAUL_2011',\n",
       "  u'R_HUNTSMAN_2011'],\n",
       " [u'R_GINGRICH_2011',\n",
       "  u'R_BACHMANN_2011',\n",
       "  u'R_CAIN_2011',\n",
       "  u'R_ROMNEY_2011',\n",
       "  u'R_SANTORUM_2011',\n",
       "  u'R_PERRY_2011',\n",
       "  u'R_PAUL_2011',\n",
       "  u'R_HUNTSMAN_2011'],\n",
       " [u'R_GINGRICH_2011',\n",
       "  u'R_BACHMANN_2011',\n",
       "  u'R_CAIN_2011',\n",
       "  u'R_ROMNEY_2011',\n",
       "  u'R_SANTORUM_2011',\n",
       "  u'R_PAUL_2011',\n",
       "  u'R_PAWLENTY_2011',\n",
       "  u'R_HUNTSMAN_2011'],\n",
       " [u'R_GINGRICH_2011',\n",
       "  u'R_BACHMANN_2011',\n",
       "  u'R_CAIN_2011',\n",
       "  u'R_ROMNEY_2011',\n",
       "  u'R_SANTORUM_2011',\n",
       "  u'R_PAUL_2011',\n",
       "  u'R_PAWLENTY_2011'],\n",
       " [u'D_CLINTON_2008', u'D_OBAMA_2008'],\n",
       " [u'D_CLINTON_2008', u'D_OBAMA_2008'],\n",
       " [u'D_CLINTON_2008', u'D_OBAMA_2008'],\n",
       " [u'D_CLINTON_2008', u'D_OBAMA_2008'],\n",
       " [u'D_CLINTON_2008', u'D_OBAMA_2008', u'D_EDWARDS_2008'],\n",
       " [u'D_RICHARDSON_2008', u'D_EDWARDS_2008', u'D_OBAMA_2008', u'D_CLINTON_2008'],\n",
       " [u'D_CLINTON_2008',\n",
       "  u'D_DODD_2008',\n",
       "  u'D_EDWARDS_2008',\n",
       "  u'D_BIDEN_2008',\n",
       "  u'D_OBAMA_2008',\n",
       "  u'D_RICHARDSON_2008'],\n",
       " [u'D_CLINTON_2008',\n",
       "  u'D_DODD_2008',\n",
       "  u'D_EDWARDS_2008',\n",
       "  u'D_BIDEN_2008',\n",
       "  u'D_OBAMA_2008',\n",
       "  u'D_KUCINICH_2008',\n",
       "  u'D_GRAVEL_2008'],\n",
       " [u'D_CLINTON_2008',\n",
       "  u'D_DODD_2008',\n",
       "  u'D_EDWARDS_2008',\n",
       "  u'D_BIDEN_2008',\n",
       "  u'D_OBAMA_2008',\n",
       "  u'D_KUCINICH_2008',\n",
       "  u'D_RICHARDSON_2008'],\n",
       " [u'D_CLINTON_2008',\n",
       "  u'D_DODD_2008',\n",
       "  u'D_EDWARDS_2008',\n",
       "  u'D_BIDEN_2008',\n",
       "  u'D_OBAMA_2008',\n",
       "  u'D_KUCINICH_2008',\n",
       "  u'D_RICHARDSON_2008'],\n",
       " [u'D_CLINTON_2008',\n",
       "  u'D_DODD_2008',\n",
       "  u'D_EDWARDS_2008',\n",
       "  u'D_BIDEN_2008',\n",
       "  u'D_OBAMA_2008',\n",
       "  u'D_KUCINICH_2008',\n",
       "  u'D_GRAVEL_2008',\n",
       "  u'D_RICHARDSON_2008'],\n",
       " [u'D_GRAVEL_2007',\n",
       "  u'D_KUCINICH_2007',\n",
       "  u'D_OBAMA_2007',\n",
       "  u'D_DODD_2007',\n",
       "  u'D_CLINTON_2007',\n",
       "  u'D_EDWARDS_2007',\n",
       "  u'D_RICHARDSON_2007'],\n",
       " [u'D_GRAVEL_2007',\n",
       "  u'D_KUCINICH_2007',\n",
       "  u'D_OBAMA_2007',\n",
       "  u'D_BIDEN_2007',\n",
       "  u'D_DODD_2007',\n",
       "  u'D_CLINTON_2007',\n",
       "  u'D_EDWARDS_2007',\n",
       "  u'D_RICHARDSON_2007'],\n",
       " [u'D_KUCINICH_2007',\n",
       "  u'D_OBAMA_2007',\n",
       "  u'D_BIDEN_2007',\n",
       "  u'D_DODD_2007',\n",
       "  u'D_CLINTON_2007',\n",
       "  u'D_EDWARDS_2007',\n",
       "  u'D_RICHARDSON_2007'],\n",
       " [u'D_GRAVEL_2007',\n",
       "  u'D_KUCINICH_2007',\n",
       "  u'D_OBAMA_2007',\n",
       "  u'D_BIDEN_2007',\n",
       "  u'D_DODD_2007',\n",
       "  u'D_CLINTON_2007',\n",
       "  u'D__2007',\n",
       "  u'D_EDWARDS_2007',\n",
       "  u'D_RICHARDSON_2007'],\n",
       " [u'D_GRAVEL_2007',\n",
       "  u'D_KUCINICH_2007',\n",
       "  u'D_EDWARDS_2007',\n",
       "  u'D_BIDEN_2007',\n",
       "  u'D_DODD_2007',\n",
       "  u'D_CLINTON_2007',\n",
       "  u'D__2007',\n",
       "  u'D_OBAMA_2007',\n",
       "  u'D_RICHARDSON_2007'],\n",
       " [u'R_HUCKABEE_2007', u'R_PAUL_2007', u'R_ROMNEY_2007', u'R_MCCAIN_2007'],\n",
       " [u'R_PAUL_2007',\n",
       "  u'R_HUCKABEE_2007',\n",
       "  u'R_GIULIANI_2007',\n",
       "  u'R_ROMNEY_2007',\n",
       "  u'R_MCCAIN_2007'],\n",
       " [u'R_HUCKABEE_2007',\n",
       "  u'R_THOMPSON_2007',\n",
       "  u'R_GIULIANI_2007',\n",
       "  u'R_ROMNEY_2007',\n",
       "  u'R_PAUL_2007',\n",
       "  u'R_MCCAIN_2007'],\n",
       " [u'R_WALLACE_2007',\n",
       "  u'R_NARRATOR_2007',\n",
       "  u'R_HUCKABEE_2007',\n",
       "  u'R_THOMPSON_2007',\n",
       "  u'R_GIULIANI_2007',\n",
       "  u'R_ROMNEY_2007',\n",
       "  u'R_HOST_2007',\n",
       "  u'R_MCCAIN_2007'],\n",
       " [u'R_HUCKABEE_2007',\n",
       "  u'R_THOMPSON_2007',\n",
       "  u'R_GIULIANI_2007',\n",
       "  u'R_ROMNEY_2007',\n",
       "  u'R_TX_2007',\n",
       "  u'R_PAUL_2007',\n",
       "  u'R_MCCAIN_2007'],\n",
       " [u'R_HUNTER_2008',\n",
       "  u'R_MCCAIN_2008',\n",
       "  u'R_PAUL_2008',\n",
       "  u'R_ROMNEY_2008',\n",
       "  u'R_GIULIANI_2008',\n",
       "  u'R_THOMPSON_2008',\n",
       "  u'R_HUCKABEE_2008'],\n",
       " [u'R_GIULIANI_2008', u'R_THOMPSON_2008'],\n",
       " [u'R_HUCKABEE_2008',\n",
       "  u'R_MCCAIN_2008',\n",
       "  u'R_PAUL_2008',\n",
       "  u'R_TANCREDO_2008',\n",
       "  u'R_ROMNEY_2008',\n",
       "  u'R_GIULIANI_2008',\n",
       "  u'R_THOMPSON_2008',\n",
       "  u'R_HUNTER_2008'],\n",
       " [u'R_HUCKABEE_2008',\n",
       "  u'R_MCCAIN_2008',\n",
       "  u'R_PAUL_2008',\n",
       "  u'R_TANCREDO_2008',\n",
       "  u'R_BROWNBACK_2008',\n",
       "  u'R_ROMNEY_2008',\n",
       "  u'R_GIULIANI_2008',\n",
       "  u'R_THOMPSON_2008',\n",
       "  u'R_HUNTER_2008'],\n",
       " [u'R_HUNTER_2008',\n",
       "  u'R_KEYES_2008',\n",
       "  u'R_PAUL_2008',\n",
       "  u'R_TANCREDO_2008',\n",
       "  u'R_BROWNBACK_2008',\n",
       "  u'R_HUCKABEE_2008'],\n",
       " [u'R_HUCKABEE_2007',\n",
       "  u'R_GIULIANI_2007',\n",
       "  u'R_ROMNEY_2007',\n",
       "  u'R_BROWNBACK_2007',\n",
       "  u'R_TANCREDO_2007',\n",
       "  u'R_PAUL_2007',\n",
       "  u'R_HUNTER_2007',\n",
       "  u'R_MCCAIN_2007'],\n",
       " [u'R_HUNTER_2007',\n",
       "  u'R_THOMPSON_2007',\n",
       "  u'R_GIULIANI_2007',\n",
       "  u'R_ROMNEY_2007',\n",
       "  u'R_BROWNBACK_2007',\n",
       "  u'R_TANCREDO_2007',\n",
       "  u'R_PAUL_2007',\n",
       "  u'R_HUCKABEE_2007',\n",
       "  u'R_MCCAIN_2007'],\n",
       " [u'R_GILMORE_2007',\n",
       "  u'R_HUCKABEE_2007',\n",
       "  u'R_THOMPSON_2007',\n",
       "  u'R_GIULIANI_2007',\n",
       "  u'R_ROMNEY_2007',\n",
       "  u'R_BROWNBACK_2007',\n",
       "  u'R_HUNTER_2007',\n",
       "  u'R__2007',\n",
       "  u'R_PAUL_2007',\n",
       "  u'R_TANCREDO_2007',\n",
       "  u'R_MCCAIN_2007'],\n",
       " [u'R_WALLACE_2007',\n",
       "  u'R_GILMORE_2007',\n",
       "  u'R_HUNTER_2007',\n",
       "  u'R_HUCKABEE_2007',\n",
       "  u'R_GOLER_2007',\n",
       "  u'R_THOMPSON_2007',\n",
       "  u'R_HUME_2007',\n",
       "  u'R_GIULIANI_2007',\n",
       "  u'R_ROMNEY_2007',\n",
       "  u'R_BROWNBACK_2007',\n",
       "  u'R__2007',\n",
       "  u'R_PAUL_2007',\n",
       "  u'R_TANCREDO_2007',\n",
       "  u'R_MCCAIN_2007'],\n",
       " [],\n",
       " [],\n",
       " [],\n",
       " [],\n",
       " [u'D_BRADLEY_2000 ', u'D_GORE_2000 '],\n",
       " [],\n",
       " [],\n",
       " [],\n",
       " [],\n",
       " [],\n",
       " [],\n",
       " [],\n",
       " [u'R_BAUER_1999',\n",
       "  u'R_BUSH_1999',\n",
       "  u'R_FORBES_1999',\n",
       "  u'R_MCCAIN_1999',\n",
       "  u'R_HATCH_1999',\n",
       "  u'R_KEYES_1999'],\n",
       " []]"
      ]
     },
     "execution_count": 10,
     "metadata": {},
     "output_type": "execute_result"
    }
   ],
   "source": [
    "[i.keys() for i in debate_transcripts if type(i) == dict]"
   ]
  },
  {
   "cell_type": "code",
   "execution_count": null,
   "metadata": {
    "collapsed": false
   },
   "outputs": [],
   "source": []
  },
  {
   "cell_type": "code",
   "execution_count": null,
   "metadata": {
    "collapsed": true
   },
   "outputs": [],
   "source": []
  }
 ],
 "metadata": {
  "kernelspec": {
   "display_name": "Python 2",
   "language": "python",
   "name": "python2"
  },
  "language_info": {
   "codemirror_mode": {
    "name": "ipython",
    "version": 2
   },
   "file_extension": ".py",
   "mimetype": "text/x-python",
   "name": "python",
   "nbconvert_exporter": "python",
   "pygments_lexer": "ipython2",
   "version": "2.7.11"
  }
 },
 "nbformat": 4,
 "nbformat_minor": 0
}
