{
 "cells": [
  {
   "cell_type": "code",
   "execution_count": 361,
   "metadata": {},
   "outputs": [],
   "source": [
    "import dill\n",
    "from sklearn.feature_extraction.text import TfidfVectorizer\n",
    "import numpy as np\n",
    "import pandas as pd\n",
    "from sklearn.pipeline import Pipeline\n",
    "from sklearn.linear_model import LinearRegression, Lasso, Ridge\n",
    "from sklearn.grid_search import GridSearchCV\n",
    "from sklearn.ensemble import RandomForestRegressor\n",
    "from sklearn.decomposition import TruncatedSVD\n",
    "from sklearn.ensemble import GradientBoostingRegressor\n",
    "from sklearn.pipeline import FeatureUnion\n",
    "from sklearn.cross_validation import train_test_split\n",
    "import time\n",
    "import matplotlib.pyplot as plt\n",
    "import heapq\n",
    "import re\n",
    "import seaborn as sns\n",
    "import matplotlib\n",
    "matplotlib.rcParams.update({'font.size': 18})\n",
    "matplotlib.rc('xtick', labelsize=18) \n",
    "matplotlib.rc('ytick', labelsize=18)"
   ]
  },
  {
   "cell_type": "code",
   "execution_count": null,
   "metadata": {},
   "outputs": [],
   "source": [
    "%matplotlib inline"
   ]
  },
  {
   "cell_type": "code",
   "execution_count": 197,
   "metadata": {},
   "outputs": [],
   "source": [
    "transcripts = dill.load(open('../dills/debate_transcripts_list.dill', 'r'))\n",
    "spectrum = pd.read_csv('../txt/huffpo_spectrum.txt',names=['firstname','lastname','rating'])\n",
    "def lower2(s):\n",
    "    return s.lower()"
   ]
  },
  {
   "cell_type": "code",
   "execution_count": 239,
   "metadata": {},
   "outputs": [],
   "source": [
    "speakers = []# flattened dict of all candidates and their statements\n",
    "statements = []\n",
    "labels = [] # 0 for dem, 1 for republican\n",
    "ratings = []\n",
    "# all_statements = [] # list of all statements\n",
    "for debate in transcripts:\n",
    "    if debate != 0:\n",
    "        for speaker in debate:\n",
    "            year = speaker[-4:]\n",
    "            if (year == '2015' or \n",
    "                year == '2016') and (\n",
    "                speaker[2:-5].lower() in spectrum['lastname'].map(lower2).values\n",
    "                ):\n",
    "                #print speaker[2:-5]\n",
    "                statement = ''.join(debate[speaker])\n",
    "                speakers.append(speaker[2:-5])\n",
    "                if speaker[0] == 'D':\n",
    "                    labels.append('Dem')\n",
    "                else:\n",
    "                    labels.append('Rep')\n",
    "                statements.append(statement)\n",
    "                ratings.append(spectrum[spectrum['lastname'].map(lower2) == speaker[2:-5].lower()]['rating'].values[0])\n",
    "            \n",
    "df = pd.DataFrame([speakers, statements, labels, ratings],['Candidate','Statement','Label','Rating']).T"
   ]
  },
  {
   "cell_type": "code",
   "execution_count": 551,
   "metadata": {},
   "outputs": [],
   "source": [
    "def wordcount(vec):\n",
    "    return len(vec.split(' '))\n",
    "#add a length vector\n",
    "df['length'] = map(wordcount,df['Statement'])\n",
    "\n",
    "#shuffle dataframe\n",
    "dfshuf = df.reindex(np.random.permutation(df.index))\n",
    "\n",
    "#slice large and small statements\n",
    "traindf = dfshuf[dfshuf['length'] > 2750]\n",
    "testdf = dfshuf[dfshuf['length'] < 2750]"
   ]
  },
  {
   "cell_type": "code",
   "execution_count": 552,
   "metadata": {},
   "outputs": [
    {
     "data": {
      "text/plain": [
       "43"
      ]
     },
     "execution_count": 552,
     "output_type": "execute_result",
     "metadata": {}
    }
   ],
   "source": [
    "len(traindf)"
   ]
  },
  {
   "cell_type": "code",
   "execution_count": 299,
   "metadata": {},
   "outputs": [
    {
     "name": "stdout",
     "output_type": "stream",
     "text": [
      "elapsed time: 0.66 minutes\n",
      "Best Score from Grid Search: 0.911830952501\n",
      "{'tfidf': TfidfVectorizer(analyzer=u'word', binary=False, decode_error=u'strict',\n",
      "        dtype=<type 'numpy.int64'>, encoding=u'utf-8', input=u'content',\n",
      "        lowercase=True, max_df=0.9, max_features=None, min_df=0.3,\n",
      "        ngram_range=(1, 2), norm=u'l2', preprocessor=None, smooth_idf=True,\n",
      "        stop_words='english', strip_accents=None, sublinear_tf=False,\n",
      "        token_pattern=u'(?u)\\\\b\\\\w\\\\w+\\\\b', tokenizer=None, use_idf=True,\n",
      "        vocabulary=None), 'svd': TruncatedSVD(algorithm='randomized', n_components=100, n_iter=5,\n",
      "       random_state=None, tol=0.0), 'linear': LinearRegression(copy_X=True, fit_intercept=True, n_jobs=1, normalize=False)}\n"
     ]
    }
   ],
   "source": [
    "\"\"\"\n",
    "First pipeline.\n",
    "\n",
    "TfIdf -> SVD -> LinearRegression\n",
    "\"\"\"\n",
    "pipe = Pipeline(\n",
    "    [\n",
    "        ('tfidf', TfidfVectorizer()),\n",
    "        ('svd', TruncatedSVD()),\n",
    "        ('linear', LinearRegression())\n",
    "    ]\n",
    ")\n",
    "\n",
    "parameters = {\n",
    "    'tfidf__stop_words':['english',None],\n",
    "    'tfidf__ngram_range':[(1,2)],\n",
    "    'tfidf__min_df':[0.2,0.3,0.4],\n",
    "    'tfidf__max_df':[0.9],\n",
    "    'svd__n_components':[50,75,100]\n",
    "}\n",
    "\n",
    "# gridsearch with threefold cross validation\n",
    "gscv = GridSearchCV(pipe, parameters, cv=3)\n",
    "\n",
    "start = time.time() #timer start\n",
    "# perform gridsearch\n",
    "gscv.fit(traindf['Statement'], traindf['Rating'])\n",
    "end = time.time()\n",
    "\n",
    "# print results\n",
    "print 'elapsed time: %.2f minutes' % ((end - start) / 60.)\n",
    "print 'Best Score from Grid Search:',gscv.best_score_\n",
    "print gscv.best_estimator_.named_steps\n",
    "\n",
    "# name optimized model\n",
    "linmod = gscv.best_estimator_"
   ]
  },
  {
   "cell_type": "code",
   "execution_count": 297,
   "metadata": {},
   "outputs": [
    {
     "name": "stdout",
     "output_type": "stream",
     "text": [
      "elapsed time: 5.21 minutes\n",
      "Best Score from Grid Search: 0.904099825991\n",
      "Pipeline(steps=[('tfidf', TfidfVectorizer(analyzer=u'word', binary=False, decode_error=u'strict',\n",
      "        dtype=<type 'numpy.int64'>, encoding=u'utf-8', input=u'content',\n",
      "        lowercase=True, max_df=0.9, max_features=None, min_df=0.4,\n",
      "        ngram_range=(1, 2), norm=u'l2', preprocessor=None, smooth_idf=T...=0.0, n_estimators=85,\n",
      "             random_state=None, subsample=1.0, verbose=0, warm_start=False))])\n"
     ]
    }
   ],
   "source": [
    "\"\"\"\n",
    "Second Pipeline. \n",
    "\n",
    "TfIdf -> SVD (with gridsearch optimized parameters)\n",
    "\"\"\"\n",
    "\n",
    "pipe2 = Pipeline(\n",
    "    [\n",
    "        ('tfidf', TfidfVectorizer()),\n",
    "        ('svd', TruncatedSVD()),\n",
    "        ('gboost', GradientBoostingRegressor())\n",
    "    ]\n",
    ")\n",
    "\n",
    "# new gridsearch to determine optimal parameters for Gradient Boosted Trees\n",
    "parameters = {\n",
    "    'tfidf__max_df':[0.9],\n",
    "    'tfidf__min_df':[0.2,0.4],\n",
    "    'tfidf__ngram_range':[(1,2)],\n",
    "    'svd__n_components':[50],\n",
    "    'gboost__loss':['ls','lad','huber'],\n",
    "    'gboost__learning_rate':[0.18,0.2,0.3],\n",
    "    'gboost__n_estimators':[85,90,95], \n",
    "    'gboost__max_depth':[4,5]\n",
    "}\n",
    "\n",
    "gscv = GridSearchCV(pipe2, parameters, cv=3)\n",
    "\n",
    "start = time.time() #timer start\n",
    "# perform gridsearch\n",
    "gscv.fit(traindf['Statement'], traindf['Rating'])\n",
    "end = time.time()\n",
    "\n",
    "# print results\n",
    "print 'elapsed time: %.2f minutes' % ((end - start) / 60.)\n",
    "print 'Best Score from Grid Search:',gscv.best_score_\n",
    "print gscv.best_estimator_\n",
    "\n",
    "# name optimized model\n",
    "gbmod = gscv.best_estimator_"
   ]
  },
  {
   "cell_type": "code",
   "execution_count": 554,
   "metadata": {},
   "outputs": [
    {
     "name": "stdout",
     "output_type": "stream",
     "text": [
      "elapsed time: 0.56 minutes\n",
      "Best Score from Grid Search: 0.977667850266\n",
      "Pipeline(steps=[('tfidf', TfidfVectorizer(analyzer=u'word', binary=False, decode_error=u'strict',\n",
      "        dtype=<type 'numpy.int64'>, encoding=u'utf-8', input=u'content',\n",
      "        lowercase=True, max_df=0.9, max_features=None, min_df=0.4,\n",
      "        ngram_range=(1, 2), norm=u'l2', preprocessor=None, smooth_idf=T...timators=95, n_jobs=1, oob_score=False, random_state=None,\n",
      "           verbose=0, warm_start=False))])\n"
     ]
    }
   ],
   "source": [
    "\"\"\"\n",
    "Third Pipeline. \n",
    "\n",
    "TfIdf -> SVD -> RandomForest\n",
    "\"\"\"\n",
    "\n",
    "pipe2 = Pipeline(\n",
    "    [\n",
    "        ('tfidf', TfidfVectorizer()),\n",
    "        ('svd', TruncatedSVD()),\n",
    "        ('forest', RandomForestRegressor())\n",
    "    ]\n",
    ")\n",
    "\n",
    "# new gridsearch to determine optimal parameters for Gradient Boosted Trees\n",
    "parameters = {\n",
    "    'tfidf__max_df':[0.9],\n",
    "    'tfidf__min_df':[0.2,0.4],\n",
    "    'tfidf__ngram_range':[(1,2)],\n",
    "    'svd__n_components':[50],\n",
    "    'forest__n_estimators':[85,90,95], \n",
    "    'forest__max_depth':[4,5]\n",
    "}\n",
    "\n",
    "gscv = GridSearchCV(pipe2, parameters, cv=3)\n",
    "\n",
    "start = time.time() #timer start\n",
    "# perform gridsearch\n",
    "gscv.fit(traindf['Statement'], traindf['Rating'])\n",
    "end = time.time()\n",
    "\n",
    "# print results\n",
    "print 'elapsed time: %.2f minutes' % ((end - start) / 60.)\n",
    "print 'Best Score from Grid Search:',gscv.best_score_\n",
    "print gscv.best_estimator_\n",
    "\n",
    "# name optimized model\n",
    "forestmod = gscv.best_estimator_"
   ]
  },
  {
   "cell_type": "code",
   "execution_count": 521,
   "metadata": {},
   "outputs": [
    {
     "data": {
      "text/plain": [
       "{'forest': RandomForestRegressor(bootstrap=True, criterion='mse', max_depth=5,\n",
       "            max_features='auto', max_leaf_nodes=None, min_samples_leaf=1,\n",
       "            min_samples_split=2, min_weight_fraction_leaf=0.0,\n",
       "            n_estimators=90, n_jobs=1, oob_score=False, random_state=None,\n",
       "            verbose=0, warm_start=False),\n",
       " 'svd': TruncatedSVD(algorithm='randomized', n_components=50, n_iter=5,\n",
       "        random_state=None, tol=0.0),\n",
       " 'tfidf': TfidfVectorizer(analyzer=u'word', binary=False, decode_error=u'strict',\n",
       "         dtype=<type 'numpy.int64'>, encoding=u'utf-8', input=u'content',\n",
       "         lowercase=True, max_df=0.9, max_features=None, min_df=0.4,\n",
       "         ngram_range=(1, 2), norm=u'l2', preprocessor=None, smooth_idf=True,\n",
       "         stop_words=None, strip_accents=None, sublinear_tf=False,\n",
       "         token_pattern=u'(?u)\\\\b\\\\w\\\\w+\\\\b', tokenizer=None, use_idf=True,\n",
       "         vocabulary=None)}"
      ]
     },
     "execution_count": 521,
     "output_type": "execute_result",
     "metadata": {}
    }
   ],
   "source": [
    "forestmod.named_steps"
   ]
  },
  {
   "cell_type": "code",
   "execution_count": 608,
   "metadata": {},
   "outputs": [
    {
     "data": {
      "text/plain": [
       "{'linear': LinearRegression(copy_X=True, fit_intercept=True, n_jobs=1, normalize=False),\n",
       " 'svd': TruncatedSVD(algorithm='randomized', n_components=100, n_iter=5,\n",
       "        random_state=None, tol=0.0),\n",
       " 'tfidf': TfidfVectorizer(analyzer=u'word', binary=False, decode_error=u'strict',\n",
       "         dtype=<type 'numpy.int64'>, encoding=u'utf-8', input=u'content',\n",
       "         lowercase=True, max_df=0.9, max_features=None, min_df=0.3,\n",
       "         ngram_range=(1, 2), norm=u'l2', preprocessor=None, smooth_idf=True,\n",
       "         stop_words='english', strip_accents=None, sublinear_tf=False,\n",
       "         token_pattern=u'(?u)\\\\b\\\\w\\\\w+\\\\b', tokenizer=None, use_idf=True,\n",
       "         vocabulary=None)}"
      ]
     },
     "execution_count": 608,
     "output_type": "execute_result",
     "metadata": {}
    }
   ],
   "source": [
    "linmod.named_steps"
   ]
  },
  {
   "cell_type": "code",
   "execution_count": 557,
   "metadata": {},
   "outputs": [
    {
     "data": {
      "image/png": "[encoded data removed]"
     },
     "output_type": "display_data",
     "metadata": {}
    }
   ],
   "source": [
    "\"\"\"\n",
    "See how the ideology prediction varies in time for each candidate.\n",
    "\"\"\"\n",
    "windowsize = 5000\n",
    "stats = df[['Candidate','Statement']].groupby('Candidate').agg(sum)\n",
    "most_lib = ''\n",
    "most_cons = ''\n",
    "maxim = 0\n",
    "minim = 0\n",
    "for i in range(len(stats)):\n",
    "    stat = stats.iloc[i]['Statement']\n",
    "    length = len(stat)\n",
    "    name = stats.iloc[i].name\n",
    "    x = []\n",
    "    y = []\n",
    "    for j in range(0,length-windowsize,windowsize):\n",
    "        words = stat[j:j+windowsize]\n",
    "        score = (linmod.predict([words]) + forestmod.predict([words])) / 2.\n",
    "        x.append(j)\n",
    "        y.append(score)\n",
    "        if score > maxim:\n",
    "            most_cons = words\n",
    "            maxim = score\n",
    "        if score < minim:\n",
    "            most_lib = words\n",
    "            minim = score\n",
    "    plt.plot(x,y, label=name)\n",
    "    plt.legend()\n",
    "#print most_cons\n",
    "#print \n",
    "#print most_lib"
   ]
  },
  {
   "cell_type": "code",
   "execution_count": 599,
   "metadata": {},
   "outputs": [],
   "source": [
    "def predict_ideology(text, title='prediction'):\n",
    "    \"\"\"\n",
    "    predicts the political spectrum value for a given chunk of text.\n",
    "    plots this value on a -10 to 10 scale along with the values of\n",
    "    several politicians for reference.\n",
    "    \"\"\"\n",
    "    lm_pred = linmod.predict([text])\n",
    "    rf_pred = forestmod.predict([text])\n",
    "    \n",
    "    # candidates and ratings to plot\n",
    "    bignames = ('yourtext','Your text (random forest)','Your text',\n",
    "                'Sanders','Clinton','Christie','Trump','Rubio','Cruz')\n",
    "    ratings = [\n",
    "        spectrum[spectrum['lastname'] == i]['rating'].values[0]\n",
    "        for i in bignames[3:]\n",
    "    ]\n",
    "    y_pos = np.arange(len(bignames))\n",
    "    \n",
    "    cm = plt.get_cmap('RdBu') # colormap\n",
    "    \n",
    "    [plt.barh(a,b, \n",
    "             align='center', color=cm(1-(b+10)/20.), alpha=0.4) \n",
    "         for (a,b) in zip(y_pos[3:], ratings)]\n",
    "    plt.barh(y_pos[2], (lm_pred+rf_pred) / 2., align='center', color=cm(1-(lm_pred+10)/20.), alpha=0.8)\n",
    "    #plt.barh(y_pos[1], lm_pred, align='center', color=cm(1-(lm_pred+10)/20.), alpha=0.8)\n",
    "    #plt.barh(y_pos[2], rf_pred, align='center', color=cm(1-(rf_pred+10)/20.), alpha=0.8)\n",
    "    plt.yticks(y_pos[2:], bignames[2:])\n",
    "    #plt.xlabel('Political Spectrum')\n",
    "    plt.axis([-10,10,1,10])\n",
    "    plt.text(-6.5,9,'LIBERAL', color=cm(0.99))\n",
    "    plt.text(1.8,9,'CONSERVATIVE', color=cm(0.01))\n",
    "    plt.fill_between([-10,10],[2.5,2.5],[1.5,1.5],color='black',alpha=0.2)\n",
    "    plt.plot([0,0],[0,10],'-',color='black')\n",
    "    plt.xticks([])\n",
    "    plt.subplots_adjust(left=0.15, right=0.95, top=0.95, bottom=0.01)\n",
    "    plt.savefig('../img/%s.png' % title,transparent=True)\n",
    "    plt.show()"
   ]
  },
  {
   "cell_type": "code",
   "execution_count": 615,
   "metadata": {},
   "outputs": [
    {
     "data": {
      "image/png": "[encoded data removed]"
     },
     "output_type": "display_data",
     "metadata": {}
    }
   ],
   "source": [
    "predict_ideology(\"\"\"that's how you get a foreign policy where we cut \n",
    "                    deals with our enemies like Iran and we betray \n",
    "                    our allies like Israel\"\"\")"
   ]
  },
  {
   "cell_type": "code",
   "execution_count": 617,
   "metadata": {},
   "outputs": [
    {
     "data": {
      "text/plain": [
       "[(u'barack obama', 4.7225416782606837),\n",
       " (u'the law', 4.2016191237216152),\n",
       " (u'in chief', 4.1148786459460256)]"
      ]
     },
     "execution_count": 617,
     "output_type": "execute_result",
     "metadata": {}
    }
   ],
   "source": [
    "conservative_features[:3]"
   ]
  },
  {
   "cell_type": "code",
   "execution_count": 616,
   "metadata": {},
   "outputs": [],
   "source": [
    "\"\"\"\n",
    "Feature importance determination.\n",
    "\"\"\"\n",
    "all_statements = ' '.join(df['Statement'].values)\n",
    "all_statements = all_statements.lower()\n",
    "all_statments = re.sub(token_pattern, '', all_statements)\n",
    "all_statements = re.sub(u',|\\.|\\'','',all_statements)\n",
    "#all_statements = re.sub('|'.join(tfidf.get_stop_words()),'',all_statements)\n",
    "all_statements = all_statements.split(' ')[:4000]\n",
    "words = {}\n",
    "for i in range(len(all_statements)-1):\n",
    "    word = all_statements[i]\n",
    "    word2 = ' '.join(all_statements[i:i+2])\n",
    "    if word not in words:\n",
    "        words[word] = model.predict([word])[0]\n",
    "    if word2 not in words:\n",
    "        words[word2] = model.predict([word2])[0]\n",
    "    \n",
    "conservative_features = sorted(words.items(), key=lambda x:x[1],reverse=True)[:100]"
   ]
  },
  {
   "cell_type": "code",
   "execution_count": 432,
   "metadata": {},
   "outputs": [],
   "source": [
    "import dill\n",
    "dill.dump(forestmod, open('../dills/forestmod.dill', 'wb'))\n",
    "dill.dump(linmod, open('../dills/linmod.dill', 'wb'))"
   ]
  },
  {
   "cell_type": "code",
   "execution_count": 613,
   "metadata": {},
   "outputs": [
    {
     "data": {
      "text/plain": [
       "u\"tates. [applause]Someone who cannot handle intelligence information appropriately cannot be commander in chief and someone who lies to the families of those four victims in Benghazi can never be president of the United States. Ever. [applause]On the issue of Barack Obama, Barack Obama does not believe that America is a great global power. Barack Obama believes that America is a arrogant global power that needs to be cut down to size. And that's how you get a foreign policy where we cut deals with our enemies like Iran and we betray our allies like Israel and we gut our military and we go aroun\""
      ]
     },
     "execution_count": 613,
     "output_type": "execute_result",
     "metadata": {}
    }
   ],
   "source": [
    "df.iloc[52]['Statement'][200:800] # Ru-Bi-OHHHHHHHH!"
   ]
  },
  {
   "cell_type": "code",
   "execution_count": null,
   "metadata": {},
   "outputs": [],
   "source": [
    ""
   ]
  }
 ],
 "metadata": {
  "kernelspec": {
   "display_name": "Python 2",
   "language": "python",
   "name": "python2"
  },
  "language_info": {
   "codemirror_mode": {
    "name": "ipython",
    "version": 2.0
   },
   "file_extension": ".py",
   "mimetype": "text/x-python",
   "name": "python",
   "nbconvert_exporter": "python",
   "pygments_lexer": "ipython2",
   "version": "2.7.11"
  }
 },
 "nbformat": 4,
 "nbformat_minor": 0
}