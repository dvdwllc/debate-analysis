{
 "cells": [
  {
   "cell_type": "code",
   "execution_count": 1,
   "metadata": {
    "collapsed": true
   },
   "outputs": [],
   "source": [
    "import dill\n",
    "from sklearn.feature_extraction.text import CountVectorizer"
   ]
  },
  {
   "cell_type": "code",
   "execution_count": 3,
   "metadata": {
    "collapsed": false
   },
   "outputs": [],
   "source": [
    "transcripts = dill.load(open('../dills/debate_transcripts_list.dill', 'r'))"
   ]
  },
  {
   "cell_type": "code",
   "execution_count": 5,
   "metadata": {
    "collapsed": true
   },
   "outputs": [],
   "source": [
    "speakers = []# flattened dict of all candidates and their statements\n",
    "statements = []\n",
    "all_statements = [] # list of all statements\n",
    "for debate in transcripts:\n",
    "    for speaker in debate:\n",
    "        speakers.append(speaker)\n",
    "        statements.append(debate[speaker])\n",
    "        \n",
    "        # put all statements into one list\n",
    "        [all_statements.append(i) for i in debate[speaker]]"
   ]
  },
  {
   "cell_type": "code",
   "execution_count": 6,
   "metadata": {
    "collapsed": true
   },
   "outputs": [],
   "source": [
    "# start with a count vectorizer\n",
    "countvec = CountVectorizer(ngram_range=(2,3), stop_words='english', min_df=2, max_df=0.8)"
   ]
  },
  {
   "cell_type": "code",
   "execution_count": 7,
   "metadata": {
    "collapsed": false
   },
   "outputs": [
    {
     "data": {
      "text/plain": [
       "CountVectorizer(analyzer=u'word', binary=False, charset=None,\n",
       "        charset_error=None, decode_error=u'strict',\n",
       "        dtype=<type 'numpy.int64'>, encoding=u'utf-8', input=u'content',\n",
       "        lowercase=True, max_df=0.8, max_features=None, min_df=2,\n",
       "        ngram_range=(2, 3), preprocessor=None, stop_words='english',\n",
       "        strip_accents=None, token_pattern=u'(?u)\\\\b\\\\w\\\\w+\\\\b',\n",
       "        tokenizer=None, vocabulary=None)"
      ]
     },
     "execution_count": 7,
     "metadata": {},
     "output_type": "execute_result"
    }
   ],
   "source": [
    "# fit on list of all statements\n",
    "countvec.fit(all_statements)"
   ]
  },
  {
   "cell_type": "code",
   "execution_count": 8,
   "metadata": {
    "collapsed": true
   },
   "outputs": [],
   "source": [
    "transformed_debates = zip(speakers, [countvec.transform([''.join(i)]) for i in statements])"
   ]
  },
  {
   "cell_type": "code",
   "execution_count": 9,
   "metadata": {
    "collapsed": false
   },
   "outputs": [
    {
     "data": {
      "text/plain": [
       "[(u'CLINTON_2016', <1x129924 sparse matrix of type '<type 'numpy.int64'>'\n",
       "  \twith 1693 stored elements in Compressed Sparse Row format>),\n",
       " (u'MODERATORS_2016', <1x129924 sparse matrix of type '<type 'numpy.int64'>'\n",
       "  \twith 0 stored elements in Compressed Sparse Row format>),\n",
       " (u'TODD_2016', <1x129924 sparse matrix of type '<type 'numpy.int64'>'\n",
       "  \twith 551 stored elements in Compressed Sparse Row format>),\n",
       " (u'SANDERS_2016', <1x129924 sparse matrix of type '<type 'numpy.int64'>'\n",
       "  \twith 1663 stored elements in Compressed Sparse Row format>),\n",
       " (u'MADDOW_2016', <1x129924 sparse matrix of type '<type 'numpy.int64'>'\n",
       "  \twith 451 stored elements in Compressed Sparse Row format>),\n",
       " (u'CLINTON_2016', <1x129924 sparse matrix of type '<type 'numpy.int64'>'\n",
       "  \twith 1061 stored elements in Compressed Sparse Row format>),\n",
       " (u'MITCHELL_2016', <1x129924 sparse matrix of type '<type 'numpy.int64'>'\n",
       "  \twith 241 stored elements in Compressed Sparse Row format>),\n",
       " (u'SANDERS_2016', <1x129924 sparse matrix of type '<type 'numpy.int64'>'\n",
       "  \twith 1413 stored elements in Compressed Sparse Row format>),\n",
       " (u'HOLT_2016', <1x129924 sparse matrix of type '<type 'numpy.int64'>'\n",
       "  \twith 601 stored elements in Compressed Sparse Row format>),\n",
       " (u'MALLEY_2016', <1x129924 sparse matrix of type '<type 'numpy.int64'>'\n",
       "  \twith 758 stored elements in Compressed Sparse Row format>)]"
      ]
     },
     "execution_count": 9,
     "metadata": {},
     "output_type": "execute_result"
    }
   ],
   "source": [
    "transformed_debates[:10]"
   ]
  },
  {
   "cell_type": "code",
   "execution_count": null,
   "metadata": {
    "collapsed": false
   },
   "outputs": [],
   "source": []
  },
  {
   "cell_type": "code",
   "execution_count": null,
   "metadata": {
    "collapsed": true
   },
   "outputs": [],
   "source": []
  },
  {
   "cell_type": "code",
   "execution_count": null,
   "metadata": {
    "collapsed": true
   },
   "outputs": [],
   "source": []
  }
 ],
 "metadata": {
  "kernelspec": {
   "display_name": "Python 2",
   "language": "python",
   "name": "python2"
  },
  "language_info": {
   "codemirror_mode": {
    "name": "ipython",
    "version": 2
   },
   "file_extension": ".py",
   "mimetype": "text/x-python",
   "name": "python",
   "nbconvert_exporter": "python",
   "pygments_lexer": "ipython2",
   "version": "2.7.11"
  }
 },
 "nbformat": 4,
 "nbformat_minor": 0
}
