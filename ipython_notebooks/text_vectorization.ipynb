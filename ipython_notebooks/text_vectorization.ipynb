{
 "cells": [
  {
   "cell_type": "code",
   "execution_count": 1,
   "metadata": {},
   "outputs": [],
   "source": [
    "import dill\n",
    "from sklearn.feature_extraction.text import CountVectorizer"
   ]
  },
  {
   "cell_type": "code",
   "execution_count": 2,
   "metadata": {},
   "outputs": [],
   "source": [
    "transcripts = dill.load(open('../debate_transcripts_list.dill', 'r'))"
   ]
  },
  {
   "cell_type": "code",
   "execution_count": 12,
   "metadata": {},
   "outputs": [],
   "source": [
    "speakers = []# flattened dict of all candidates and their statements\n",
    "statements = []\n",
    "all_statements = [] # list of all statements\n",
    "for debate in transcripts:\n",
    "    for speaker in debate:\n",
    "        speakers.append(speaker)\n",
    "        statements.append(debate[speaker])\n",
    "        \n",
    "        # put all statements into one list\n",
    "        [all_statements.append(i) for i in debate[speaker]]"
   ]
  },
  {
   "cell_type": "code",
   "execution_count": 33,
   "metadata": {},
   "outputs": [],
   "source": [
    "# start with a count vectorizer\n",
    "countvec = CountVectorizer(ngram_range=(2,3), stop_words='english', min_df=2, max_df=0.8)"
   ]
  },
  {
   "cell_type": "code",
   "execution_count": 34,
   "metadata": {},
   "outputs": [
    {
     "data": {
      "text/plain": [
       "CountVectorizer(analyzer=u'word', binary=False, charset=None,\n        charset_error=None, decode_error=u'strict',\n        dtype=<type 'numpy.int64'>, encoding=u'utf-8', input=u'content',\n        lowercase=True, max_df=0.8, max_features=None, min_df=2,\n        ngram_range=(2, 3), preprocessor=None, stop_words='english',\n        strip_accents=None, token_pattern=u'(?u)\\\\b\\\\w\\\\w+\\\\b',\n        tokenizer=None, vocabulary=None)"
      ]
     },
     "execution_count": 34,
     "output_type": "execute_result",
     "metadata": {}
    }
   ],
   "source": [
    "# fit on list of all statements\n",
    "countvec.fit(all_statements)"
   ]
  },
  {
   "cell_type": "code",
   "execution_count": 35,
   "metadata": {},
   "outputs": [],
   "source": [
    "transformed_debates = zip(speakers, [countvec.transform([''.join(i)]) for i in statements])"
   ]
  },
  {
   "cell_type": "code",
   "execution_count": 36,
   "metadata": {},
   "outputs": [
    {
     "data": {
      "text/plain": [
       "[(u'SANDERS:', <1x171196 sparse matrix of type '<type 'numpy.int64'>'\n  \twith 5790 stored elements in Compressed Sparse Row format>),\n (u'MODERATORS:', <1x171196 sparse matrix of type '<type 'numpy.int64'>'\n  \twith 297 stored elements in Compressed Sparse Row format>),\n (u'CLINTON:', <1x171196 sparse matrix of type '<type 'numpy.int64'>'\n  \twith 7446 stored elements in Compressed Sparse Row format>),\n (u'MADDOW:', <1x171196 sparse matrix of type '<type 'numpy.int64'>'\n  \twith 367 stored elements in Compressed Sparse Row format>),\n (u'TODD:', <1x171196 sparse matrix of type '<type 'numpy.int64'>'\n  \twith 362 stored elements in Compressed Sparse Row format>),\n (u'SANDERS:', <1x171196 sparse matrix of type '<type 'numpy.int64'>'\n  \twith 1367 stored elements in Compressed Sparse Row format>),\n (u'RAMSEY:', <1x171196 sparse matrix of type '<type 'numpy.int64'>'\n  \twith 62 stored elements in Compressed Sparse Row format>),\n (u'MITCHELL:', <1x171196 sparse matrix of type '<type 'numpy.int64'>'\n  \twith 110 stored elements in Compressed Sparse Row format>),\n (u'HOLT:', <1x171196 sparse matrix of type '<type 'numpy.int64'>'\n  \twith 824 stored elements in Compressed Sparse Row format>),\n (u'MODERATORS:', <1x171196 sparse matrix of type '<type 'numpy.int64'>'\n  \twith 12 stored elements in Compressed Sparse Row format>)]"
      ]
     },
     "execution_count": 36,
     "output_type": "execute_result",
     "metadata": {}
    }
   ],
   "source": [
    "transformed_debates[:10]"
   ]
  },
  {
   "cell_type": "code",
   "execution_count": 21,
   "metadata": {},
   "outputs": [
    {
     "name": "stdout",
     "output_type": "stream",
     "text": [
      "Using matplotlib backend: MacOSX\n"
     ]
    }
   ],
   "source": [
    "%matplotlib"
   ]
  },
  {
   "cell_type": "code",
   "execution_count": 22,
   "metadata": {},
   "outputs": [],
   "source": [
    "plt.plot([1,2,3],[4,5,6], 'o-', color='red', alpha=0.4)\n",
    "plt.show()"
   ]
  },
  {
   "cell_type": "code",
   "execution_count": null,
   "metadata": {},
   "outputs": [],
   "source": [
    ""
   ]
  }
 ],
 "metadata": {
  "kernelspec": {
   "display_name": "Python 2",
   "language": "python",
   "name": "python2"
  },
  "language_info": {
   "codemirror_mode": {
    "name": "ipython",
    "version": 2.0
   },
   "file_extension": ".py",
   "mimetype": "text/x-python",
   "name": "python",
   "nbconvert_exporter": "python",
   "pygments_lexer": "ipython2",
   "version": "2.7.11"
  }
 },
 "nbformat": 4,
 "nbformat_minor": 0
}