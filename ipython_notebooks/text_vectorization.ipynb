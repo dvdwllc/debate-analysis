{
 "cells": [
  {
   "cell_type": "code",
   "execution_count": 80,
   "metadata": {
    "collapsed": true
   },
   "outputs": [],
   "source": [
    "import dill\n",
    "from sklearn.feature_extraction.text import TfidfVectorizer\n",
    "import numpy as np"
   ]
  },
  {
   "cell_type": "code",
   "execution_count": 3,
   "metadata": {
    "collapsed": false
   },
   "outputs": [],
   "source": [
    "transcripts = dill.load(open('../dills/debate_transcripts_list.dill', 'r'))"
   ]
  },
  {
   "cell_type": "code",
   "execution_count": 129,
   "metadata": {
    "collapsed": true
   },
   "outputs": [],
   "source": [
    "speakers = []# flattened dict of all candidates and their statements\n",
    "statements = []\n",
    "# all_statements = [] # list of all statements\n",
    "for debate in transcripts:\n",
    "    for speaker in debate:\n",
    "        statement = ''.join(debate[speaker])\n",
    "        \n",
    "        # filter out questions and people who didn't talk much\n",
    "        if len(statement) > 20000 and len(speaker) > 7:\n",
    "            speakers.append(speaker)\n",
    "            statements.append(statement)"
   ]
  },
  {
   "cell_type": "code",
   "execution_count": 142,
   "metadata": {
    "collapsed": true
   },
   "outputs": [],
   "source": [
    "tfidf = TfidfVectorizer(ngram_range=(1,3), stop_words='english', min_df=2, max_df=0.8)"
   ]
  },
  {
   "cell_type": "code",
   "execution_count": 111,
   "metadata": {
    "collapsed": false
   },
   "outputs": [],
   "source": [
    "import pandas as pd"
   ]
  },
  {
   "cell_type": "code",
   "execution_count": 130,
   "metadata": {
    "collapsed": false
   },
   "outputs": [],
   "source": [
    "df = pd.DataFrame(statements, speakers)"
   ]
  },
  {
   "cell_type": "code",
   "execution_count": 131,
   "metadata": {
    "collapsed": false
   },
   "outputs": [
    {
     "data": {
      "text/html": [
       "<div>\n",
       "<table border=\"1\" class=\"dataframe\">\n",
       "  <thead>\n",
       "    <tr style=\"text-align: right;\">\n",
       "      <th></th>\n",
       "      <th>0</th>\n",
       "    </tr>\n",
       "  </thead>\n",
       "  <tbody>\n",
       "    <tr>\n",
       "      <th>CLINTON_2016</th>\n",
       "      <td>Well, I'm happy to be here in New Hampshire f...</td>\n",
       "    </tr>\n",
       "    <tr>\n",
       "      <th>SANDERS_2016</th>\n",
       "      <td>Rachel, thank you very much.Millions of Ameri...</td>\n",
       "    </tr>\n",
       "    <tr>\n",
       "      <th>CLINTON_2016</th>\n",
       "      <td>Well, good evening. And I want to thank the C...</td>\n",
       "    </tr>\n",
       "    <tr>\n",
       "      <th>SANDERS_2016</th>\n",
       "      <td>Thank you. As we honor the extraordinary life...</td>\n",
       "    </tr>\n",
       "    <tr>\n",
       "      <th>CLINTON_2016</th>\n",
       "      <td>Well, thank you. And I'm delighted to be here...</td>\n",
       "    </tr>\n",
       "    <tr>\n",
       "      <th>SANDERS_2016</th>\n",
       "      <td>Good evening.I am running for president of th...</td>\n",
       "    </tr>\n",
       "    <tr>\n",
       "      <th>MALLEY_2016</th>\n",
       "      <td>Martha, thank you. Tonight we have a differen...</td>\n",
       "    </tr>\n",
       "    <tr>\n",
       "      <th>CLINTON_2015</th>\n",
       "      <td>Well, our prayers are with the people of Fran...</td>\n",
       "    </tr>\n",
       "    <tr>\n",
       "      <th>SANDERS_2015</th>\n",
       "      <td>Well, John, let me concur with you and with a...</td>\n",
       "    </tr>\n",
       "    <tr>\n",
       "      <th>CLINTON_2015</th>\n",
       "      <td>Well, thank you, and thanks to everyone for h...</td>\n",
       "    </tr>\n",
       "    <tr>\n",
       "      <th>SANDERS_2015</th>\n",
       "      <td>Anderson, thank you very much. I think most A...</td>\n",
       "    </tr>\n",
       "    <tr>\n",
       "      <th>COOPER_2015</th>\n",
       "      <td>I'm Anderson Cooper. Thanks for joining us. W...</td>\n",
       "    </tr>\n",
       "    <tr>\n",
       "      <th>RUBIO_2016</th>\n",
       "      <td>Well, let me say, from protecting the people ...</td>\n",
       "    </tr>\n",
       "    <tr>\n",
       "      <th>GRAHAM_2015</th>\n",
       "      <td>One, thanks, CNN, for having people at this d...</td>\n",
       "    </tr>\n",
       "    <tr>\n",
       "      <th>RYAN_2012</th>\n",
       "      <td>We mourn the loss of these four Americans who...</td>\n",
       "    </tr>\n",
       "    <tr>\n",
       "      <th>BIDEN_2012</th>\n",
       "      <td>What is was, it was a tragedy, Martha. It — C...</td>\n",
       "    </tr>\n",
       "    <tr>\n",
       "      <th>SANTORUM_2012</th>\n",
       "      <td>I'm Rick Santorum.And we have a lot of troubl...</td>\n",
       "    </tr>\n",
       "    <tr>\n",
       "      <th>ROMNEY_2012</th>\n",
       "      <td>I'm Mitt Romney.And there was a time in this ...</td>\n",
       "    </tr>\n",
       "    <tr>\n",
       "      <th>GINGRICH_2012</th>\n",
       "      <td>I'm Newt Gingrich, from the neighboring state...</td>\n",
       "    </tr>\n",
       "    <tr>\n",
       "      <th>SANTORUM_2012</th>\n",
       "      <td>I'm Rick Santorum, and I'm thrilled to be her...</td>\n",
       "    </tr>\n",
       "    <tr>\n",
       "      <th>ROMNEY_2012</th>\n",
       "      <td>I'm Mitt Romney, and I'm pleased to be here w...</td>\n",
       "    </tr>\n",
       "    <tr>\n",
       "      <th>GINGRICH_2012</th>\n",
       "      <td>Well, in 1980, when Ronald Reagan started the...</td>\n",
       "    </tr>\n",
       "    <tr>\n",
       "      <th>ROMNEY_2012</th>\n",
       "      <td>Well, I think this is going to come down to a...</td>\n",
       "    </tr>\n",
       "    <tr>\n",
       "      <th>ROMNEY_2012</th>\n",
       "      <td>Well, I appreciate the chance to talk about m...</td>\n",
       "    </tr>\n",
       "    <tr>\n",
       "      <th>ROMNEY_2012</th>\n",
       "      <td>I'm an optimist, and I certainly hope it turn...</td>\n",
       "    </tr>\n",
       "    <tr>\n",
       "      <th>MODERATOR_2012</th>\n",
       "      <td>Bret Baier (Fox News) Speaker Gingrich, since ...</td>\n",
       "    </tr>\n",
       "    <tr>\n",
       "      <th>ROMNEY_2012</th>\n",
       "      <td>Well, having spent my life in the private sec...</td>\n",
       "    </tr>\n",
       "    <tr>\n",
       "      <th>ROMNEY_2011</th>\n",
       "      <td>I'm Mitt Romney. I was a businessman for 25 y...</td>\n",
       "    </tr>\n",
       "    <tr>\n",
       "      <th>ROMNEY_2011</th>\n",
       "      <td>I'd be prepared to be a leader. You can't get...</td>\n",
       "    </tr>\n",
       "    <tr>\n",
       "      <th>KING_2011</th>\n",
       "      <td>Welcome to Saint Anselm College in Manchester...</td>\n",
       "    </tr>\n",
       "    <tr>\n",
       "      <th>...</th>\n",
       "      <td>...</td>\n",
       "    </tr>\n",
       "    <tr>\n",
       "      <th>BUSH_2004</th>\n",
       "      <td>I have, I have. First question is what's in t...</td>\n",
       "    </tr>\n",
       "    <tr>\n",
       "      <th>GORE_2004</th>\n",
       "      <td>Well, Jim, first of all, I would like to than...</td>\n",
       "    </tr>\n",
       "    <tr>\n",
       "      <th>BUSH_2004</th>\n",
       "      <td>Well, we do come from different places. I com...</td>\n",
       "    </tr>\n",
       "    <tr>\n",
       "      <th>CHENEY_2004</th>\n",
       "      <td>I want to thank the people here in Danville, ...</td>\n",
       "    </tr>\n",
       "    <tr>\n",
       "      <th>LIEBERMAN_2004</th>\n",
       "      <td>Before I answer that very important question,...</td>\n",
       "    </tr>\n",
       "    <tr>\n",
       "      <th>MODERATORS_2004</th>\n",
       "      <td>Tom Griffith, WMUR; andJudy Woodruff, CNNWoodr...</td>\n",
       "    </tr>\n",
       "    <tr>\n",
       "      <th>MODERATOR_2000</th>\n",
       "      <td>Dennis Ryerson, Editor, The Des Moines Registe...</td>\n",
       "    </tr>\n",
       "    <tr>\n",
       "      <th>MODERATORS_2000</th>\n",
       "      <td>Jeff Greenfield, CNN; andJudy Woodruff, CNNWoo...</td>\n",
       "    </tr>\n",
       "    <tr>\n",
       "      <th>LIVE_2000</th>\n",
       "      <td>Tonight, a crucial debate for the three remai...</td>\n",
       "    </tr>\n",
       "    <tr>\n",
       "      <th>MODERATORS_2000</th>\n",
       "      <td>Karen Brown, WMUR-TV; andBernard Shaw, CNNBrow...</td>\n",
       "    </tr>\n",
       "    <tr>\n",
       "      <th>MODERATOR_2000</th>\n",
       "      <td>Dennis Ryerson, Editor, The Des Moines Registe...</td>\n",
       "    </tr>\n",
       "    <tr>\n",
       "      <th>MODERATORS_2000</th>\n",
       "      <td>Tim Russert, NBC News; Suzanne Geha, WOOD-TV; ...</td>\n",
       "    </tr>\n",
       "    <tr>\n",
       "      <th>KEMP_2000</th>\n",
       "      <td>Wow, in 90 seconds? I can't clear my throat i...</td>\n",
       "    </tr>\n",
       "    <tr>\n",
       "      <th>GORE_2000</th>\n",
       "      <td>Thank you, Mr. Lehrer. And I would like to th...</td>\n",
       "    </tr>\n",
       "    <tr>\n",
       "      <th>GORE_1999</th>\n",
       "      <td>Good evening. It's great to be here in Atlant...</td>\n",
       "    </tr>\n",
       "    <tr>\n",
       "      <th>QUAYLE_1999</th>\n",
       "      <td>Do you remember the last time someone compare...</td>\n",
       "    </tr>\n",
       "    <tr>\n",
       "      <th>BUSH_1999</th>\n",
       "      <td>Well, a lot of what this campaign is about, i...</td>\n",
       "    </tr>\n",
       "    <tr>\n",
       "      <th>DUKAKIS_1999</th>\n",
       "      <td>No, I don't, Bernard. And I think you know th...</td>\n",
       "    </tr>\n",
       "    <tr>\n",
       "      <th>BUSH_1999</th>\n",
       "      <td>I think we've seen a deterioration of values....</td>\n",
       "    </tr>\n",
       "    <tr>\n",
       "      <th>DUKAKIS_1999</th>\n",
       "      <td>I agree with Mr. Bush that values are importa...</td>\n",
       "    </tr>\n",
       "    <tr>\n",
       "      <th>QUAYLE_1996</th>\n",
       "      <td>The question goes to whether I am qualified t...</td>\n",
       "    </tr>\n",
       "    <tr>\n",
       "      <th>BENTSEN_1996</th>\n",
       "      <td>This debate tonight is not about the qualific...</td>\n",
       "    </tr>\n",
       "    <tr>\n",
       "      <th>FERRARO_1992</th>\n",
       "      <td>Well, let me first say that I wasn't born at ...</td>\n",
       "    </tr>\n",
       "    <tr>\n",
       "      <th>BUSH_1992</th>\n",
       "      <td>Well, I don't think there's a great differenc...</td>\n",
       "    </tr>\n",
       "    <tr>\n",
       "      <th>REAGAN_1992</th>\n",
       "      <td>I believe that the only unpopular measures, a...</td>\n",
       "    </tr>\n",
       "    <tr>\n",
       "      <th>MONDALE_1988</th>\n",
       "      <td>I believe that most Americans would agree on ...</td>\n",
       "    </tr>\n",
       "    <tr>\n",
       "      <th>DOLE_1988</th>\n",
       "      <td>Thank you very much. First, I wish to thank t...</td>\n",
       "    </tr>\n",
       "    <tr>\n",
       "      <th>KENNEDY_1984</th>\n",
       "      <td>Good evening, Mr. Howe. Mr. Howe, Mr. Vice Pr...</td>\n",
       "    </tr>\n",
       "    <tr>\n",
       "      <th>KENNEDY_1984</th>\n",
       "      <td>Good evening, Mr. Shadel. Mr. McGee, we have ...</td>\n",
       "    </tr>\n",
       "    <tr>\n",
       "      <th>KENNEDY_1984</th>\n",
       "      <td>In the first place I've never suggested that ...</td>\n",
       "    </tr>\n",
       "  </tbody>\n",
       "</table>\n",
       "<p>94 rows × 1 columns</p>\n",
       "</div>"
      ],
      "text/plain": [
       "                                                                 0\n",
       "CLINTON_2016      Well, I'm happy to be here in New Hampshire f...\n",
       "SANDERS_2016      Rachel, thank you very much.Millions of Ameri...\n",
       "CLINTON_2016      Well, good evening. And I want to thank the C...\n",
       "SANDERS_2016      Thank you. As we honor the extraordinary life...\n",
       "CLINTON_2016      Well, thank you. And I'm delighted to be here...\n",
       "SANDERS_2016      Good evening.I am running for president of th...\n",
       "MALLEY_2016       Martha, thank you. Tonight we have a differen...\n",
       "CLINTON_2015      Well, our prayers are with the people of Fran...\n",
       "SANDERS_2015      Well, John, let me concur with you and with a...\n",
       "CLINTON_2015      Well, thank you, and thanks to everyone for h...\n",
       "SANDERS_2015      Anderson, thank you very much. I think most A...\n",
       "COOPER_2015       I'm Anderson Cooper. Thanks for joining us. W...\n",
       "RUBIO_2016        Well, let me say, from protecting the people ...\n",
       "GRAHAM_2015       One, thanks, CNN, for having people at this d...\n",
       "RYAN_2012         We mourn the loss of these four Americans who...\n",
       "BIDEN_2012        What is was, it was a tragedy, Martha. It — C...\n",
       "SANTORUM_2012     I'm Rick Santorum.And we have a lot of troubl...\n",
       "ROMNEY_2012       I'm Mitt Romney.And there was a time in this ...\n",
       "GINGRICH_2012     I'm Newt Gingrich, from the neighboring state...\n",
       "SANTORUM_2012     I'm Rick Santorum, and I'm thrilled to be her...\n",
       "ROMNEY_2012       I'm Mitt Romney, and I'm pleased to be here w...\n",
       "GINGRICH_2012     Well, in 1980, when Ronald Reagan started the...\n",
       "ROMNEY_2012       Well, I think this is going to come down to a...\n",
       "ROMNEY_2012       Well, I appreciate the chance to talk about m...\n",
       "ROMNEY_2012       I'm an optimist, and I certainly hope it turn...\n",
       "MODERATOR_2012   Bret Baier (Fox News) Speaker Gingrich, since ...\n",
       "ROMNEY_2012       Well, having spent my life in the private sec...\n",
       "ROMNEY_2011       I'm Mitt Romney. I was a businessman for 25 y...\n",
       "ROMNEY_2011       I'd be prepared to be a leader. You can't get...\n",
       "KING_2011         Welcome to Saint Anselm College in Manchester...\n",
       "...                                                            ...\n",
       "BUSH_2004         I have, I have. First question is what's in t...\n",
       "GORE_2004         Well, Jim, first of all, I would like to than...\n",
       "BUSH_2004         Well, we do come from different places. I com...\n",
       "CHENEY_2004       I want to thank the people here in Danville, ...\n",
       "LIEBERMAN_2004    Before I answer that very important question,...\n",
       "MODERATORS_2004  Tom Griffith, WMUR; andJudy Woodruff, CNNWoodr...\n",
       "MODERATOR_2000   Dennis Ryerson, Editor, The Des Moines Registe...\n",
       "MODERATORS_2000  Jeff Greenfield, CNN; andJudy Woodruff, CNNWoo...\n",
       "LIVE_2000         Tonight, a crucial debate for the three remai...\n",
       "MODERATORS_2000  Karen Brown, WMUR-TV; andBernard Shaw, CNNBrow...\n",
       "MODERATOR_2000   Dennis Ryerson, Editor, The Des Moines Registe...\n",
       "MODERATORS_2000  Tim Russert, NBC News; Suzanne Geha, WOOD-TV; ...\n",
       "KEMP_2000         Wow, in 90 seconds? I can't clear my throat i...\n",
       "GORE_2000         Thank you, Mr. Lehrer. And I would like to th...\n",
       "GORE_1999         Good evening. It's great to be here in Atlant...\n",
       "QUAYLE_1999       Do you remember the last time someone compare...\n",
       "BUSH_1999         Well, a lot of what this campaign is about, i...\n",
       "DUKAKIS_1999      No, I don't, Bernard. And I think you know th...\n",
       "BUSH_1999         I think we've seen a deterioration of values....\n",
       "DUKAKIS_1999      I agree with Mr. Bush that values are importa...\n",
       "QUAYLE_1996       The question goes to whether I am qualified t...\n",
       "BENTSEN_1996      This debate tonight is not about the qualific...\n",
       "FERRARO_1992      Well, let me first say that I wasn't born at ...\n",
       "BUSH_1992         Well, I don't think there's a great differenc...\n",
       "REAGAN_1992       I believe that the only unpopular measures, a...\n",
       "MONDALE_1988      I believe that most Americans would agree on ...\n",
       "DOLE_1988         Thank you very much. First, I wish to thank t...\n",
       "KENNEDY_1984      Good evening, Mr. Howe. Mr. Howe, Mr. Vice Pr...\n",
       "KENNEDY_1984      Good evening, Mr. Shadel. Mr. McGee, we have ...\n",
       "KENNEDY_1984      In the first place I've never suggested that ...\n",
       "\n",
       "[94 rows x 1 columns]"
      ]
     },
     "execution_count": 131,
     "metadata": {},
     "output_type": "execute_result"
    }
   ],
   "source": [
    "df"
   ]
  },
  {
   "cell_type": "code",
   "execution_count": 143,
   "metadata": {
    "collapsed": false
   },
   "outputs": [],
   "source": [
    "# fit on list of all statements\n",
    "tfidf_statements = tfidf.fit_transform(df[0].values)"
   ]
  },
  {
   "cell_type": "code",
   "execution_count": null,
   "metadata": {
    "collapsed": false
   },
   "outputs": [],
   "source": []
  },
  {
   "cell_type": "code",
   "execution_count": null,
   "metadata": {
    "collapsed": false
   },
   "outputs": [],
   "source": []
  },
  {
   "cell_type": "code",
   "execution_count": 26,
   "metadata": {
    "collapsed": false
   },
   "outputs": [],
   "source": [
    "from sklearn.cluster import KMeans"
   ]
  },
  {
   "cell_type": "code",
   "execution_count": 144,
   "metadata": {
    "collapsed": true
   },
   "outputs": [],
   "source": [
    "kmeans = KMeans(n_clusters=3, n_init=100)"
   ]
  },
  {
   "cell_type": "code",
   "execution_count": 145,
   "metadata": {
    "collapsed": false
   },
   "outputs": [],
   "source": [
    "clusters = kmeans.fit_transform(tfidf_statements)"
   ]
  },
  {
   "cell_type": "code",
   "execution_count": 146,
   "metadata": {
    "collapsed": false
   },
   "outputs": [],
   "source": [
    "labels = kmeans.predict(tfidf_statements)"
   ]
  },
  {
   "cell_type": "code",
   "execution_count": 147,
   "metadata": {
    "collapsed": false
   },
   "outputs": [
    {
     "data": {
      "text/plain": [
       "[(u'CLINTON_2016', 1),\n",
       " (u'SANDERS_2016', 1),\n",
       " (u'CLINTON_2016', 1),\n",
       " (u'SANDERS_2016', 1),\n",
       " (u'CLINTON_2016', 1),\n",
       " (u'SANDERS_2016', 1),\n",
       " (u'MALLEY_2016', 1),\n",
       " (u'CLINTON_2015', 1),\n",
       " (u'SANDERS_2015', 1),\n",
       " (u'CLINTON_2015', 1),\n",
       " (u'SANDERS_2015', 1),\n",
       " (u'COOPER_2015', 1),\n",
       " (u'RUBIO_2016', 1),\n",
       " (u'GRAHAM_2015', 1),\n",
       " (u'RYAN_2012', 1),\n",
       " (u'BIDEN_2012', 0),\n",
       " (u'SANTORUM_2012', 0),\n",
       " (u'ROMNEY_2012', 0),\n",
       " (u'GINGRICH_2012', 0),\n",
       " (u'SANTORUM_2012', 0),\n",
       " (u'ROMNEY_2012', 0),\n",
       " (u'GINGRICH_2012', 0),\n",
       " (u'ROMNEY_2012', 0),\n",
       " (u'ROMNEY_2012', 0),\n",
       " (u'ROMNEY_2012', 1),\n",
       " (u'MODERATOR_2012', 0),\n",
       " (u'ROMNEY_2012', 0),\n",
       " (u'ROMNEY_2011', 0),\n",
       " (u'ROMNEY_2011', 1),\n",
       " (u'KING_2011', 0),\n",
       " (u'OBAMA_2011', 1),\n",
       " (u'MCCAIN_2011', 1),\n",
       " (u'OBAMA_2011', 1),\n",
       " (u'MCCAIN_2011', 1),\n",
       " (u'OBAMA_2011', 1),\n",
       " (u'MCCAIN_2011', 1),\n",
       " (u'PALIN_2011', 1),\n",
       " (u'BIDEN_2011', 1),\n",
       " (u'CLINTON_2008', 1),\n",
       " (u'OBAMA_2008', 1),\n",
       " (u'OBAMA_2008', 1),\n",
       " (u'CLINTON_2008', 1),\n",
       " (u'CLINTON_2008', 1),\n",
       " (u'OBAMA_2008', 1),\n",
       " (u'CLINTON_2008', 1),\n",
       " (u'OBAMA_2008', 1),\n",
       " (u'CLINTON_2008', 1),\n",
       " (u'EDWARDS_2008', 1),\n",
       " (u'OBAMA_2008', 1),\n",
       " (u'OBAMA_2008', 1),\n",
       " (u'MODERATOR_2008', 1),\n",
       " (u'CLINTON_2008', 1),\n",
       " (u'RUSSERT_2008', 1),\n",
       " (u'OLBERMANN_2007', 1),\n",
       " (u'ROMNEY_2007', 0),\n",
       " (u'MCCAIN_2007', 0),\n",
       " (u'ROMNEY_2007', 1),\n",
       " (u'OTHERS_2008', 0),\n",
       " (u'EDWARDS_2007', 2),\n",
       " (u'CHENEY_2007', 2),\n",
       " (u'BROKAW_2007', 2),\n",
       " (u'GORE_2004 ', 2),\n",
       " (u'BUSH_2004 ', 2),\n",
       " (u'GORE_2004 ', 2),\n",
       " (u'BUSH_2004 ', 2),\n",
       " (u'GORE_2004 ', 2),\n",
       " (u'BUSH_2004 ', 2),\n",
       " (u'CHENEY_2004 ', 2),\n",
       " (u'LIEBERMAN_2004 ', 2),\n",
       " (u'MODERATORS_2004', 2),\n",
       " (u'MODERATOR_2000 ', 2),\n",
       " (u'MODERATORS_2000', 2),\n",
       " (u'LIVE_2000', 2),\n",
       " (u'MODERATORS_2000', 2),\n",
       " (u'MODERATOR_2000', 2),\n",
       " (u'MODERATORS_2000', 2),\n",
       " (u'KEMP_2000', 2),\n",
       " (u'GORE_2000', 2),\n",
       " (u'GORE_1999', 2),\n",
       " (u'QUAYLE_1999', 1),\n",
       " (u'BUSH_1999', 2),\n",
       " (u'DUKAKIS_1999', 2),\n",
       " (u'BUSH_1999', 2),\n",
       " (u'DUKAKIS_1999', 2),\n",
       " (u'QUAYLE_1996', 2),\n",
       " (u'BENTSEN_1996', 2),\n",
       " (u'FERRARO_1992', 2),\n",
       " (u'BUSH_1992', 2),\n",
       " (u'REAGAN_1992', 2),\n",
       " (u'MONDALE_1988', 2),\n",
       " (u'DOLE_1988', 2),\n",
       " (u'KENNEDY_1984', 2),\n",
       " (u'KENNEDY_1984', 2),\n",
       " (u'KENNEDY_1984', 2)]"
      ]
     },
     "execution_count": 147,
     "metadata": {},
     "output_type": "execute_result"
    }
   ],
   "source": [
    "zip(speakers, labels.tolist())"
   ]
  },
  {
   "cell_type": "code",
   "execution_count": 69,
   "metadata": {
    "collapsed": true
   },
   "outputs": [],
   "source": [
    "import matplotlib.pyplot as plt"
   ]
  },
  {
   "cell_type": "code",
   "execution_count": 78,
   "metadata": {
    "collapsed": false
   },
   "outputs": [],
   "source": [
    "%matplotlib inline"
   ]
  },
  {
   "cell_type": "code",
   "execution_count": 148,
   "metadata": {
    "collapsed": false
   },
   "outputs": [
    {
     "data": {
      "text/plain": [
       "(array([ 16.,   0.,   0.,   0.,   0.,  43.,   0.,   0.,   0.,  35.]),\n",
       " array([ 0. ,  0.2,  0.4,  0.6,  0.8,  1. ,  1.2,  1.4,  1.6,  1.8,  2. ]),\n",
       " <a list of 10 Patch objects>)"
      ]
     },
     "execution_count": 148,
     "metadata": {},
     "output_type": "execute_result"
    },
    {
     "data": {
      "image/png": "[encoded data removed]",
      "text/plain": [
       "<matplotlib.figure.Figure at 0x127d62110>"
      ]
     },
     "metadata": {},
     "output_type": "display_data"
    }
   ],
   "source": [
    "plt.hist(labels)"
   ]
  },
  {
   "cell_type": "code",
   "execution_count": null,
   "metadata": {
    "collapsed": true
   },
   "outputs": [],
   "source": []
  },
  {
   "cell_type": "code",
   "execution_count": null,
   "metadata": {
    "collapsed": true
   },
   "outputs": [],
   "source": []
  }
 ],
 "metadata": {
  "kernelspec": {
   "display_name": "Python 2",
   "language": "python",
   "name": "python2"
  },
  "language_info": {
   "codemirror_mode": {
    "name": "ipython",
    "version": 2
   },
   "file_extension": ".py",
   "mimetype": "text/x-python",
   "name": "python",
   "nbconvert_exporter": "python",
   "pygments_lexer": "ipython2",
   "version": "2.7.11"
  }
 },
 "nbformat": 4,
 "nbformat_minor": 0
}
